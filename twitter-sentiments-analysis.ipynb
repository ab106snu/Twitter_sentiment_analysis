{
 "cells": [
  {
   "cell_type": "code",
   "execution_count": 1,
   "id": "a36d4deb",
   "metadata": {
    "_cell_guid": "b1076dfc-b9ad-4769-8c92-a6c4dae69d19",
    "_uuid": "8f2839f25d086af736a60e9eeb907d3b93b6e0e5",
    "execution": {
     "iopub.execute_input": "2022-05-14T16:42:53.438144Z",
     "iopub.status.busy": "2022-05-14T16:42:53.437655Z",
     "iopub.status.idle": "2022-05-14T16:42:55.781825Z",
     "shell.execute_reply": "2022-05-14T16:42:55.780901Z"
    },
    "papermill": {
     "duration": 2.404398,
     "end_time": "2022-05-14T16:42:55.784511",
     "exception": false,
     "start_time": "2022-05-14T16:42:53.380113",
     "status": "completed"
    },
    "tags": []
   },
   "outputs": [],
   "source": [
    "# Importing the libraries\n",
    "import pandas as pd\n",
    "import numpy as np\n",
    "import matplotlib.pyplot as plt\n",
    "import seaborn as sns\n",
    "import plotly.express as px"
   ]
  },
  {
   "cell_type": "code",
   "execution_count": 2,
   "id": "6c61711c",
   "metadata": {
    "execution": {
     "iopub.execute_input": "2022-05-14T16:42:55.893121Z",
     "iopub.status.busy": "2022-05-14T16:42:55.892835Z",
     "iopub.status.idle": "2022-05-14T16:42:55.896602Z",
     "shell.execute_reply": "2022-05-14T16:42:55.895817Z"
    },
    "papermill": {
     "duration": 0.060484,
     "end_time": "2022-05-14T16:42:55.898465",
     "exception": false,
     "start_time": "2022-05-14T16:42:55.837981",
     "status": "completed"
    },
    "tags": []
   },
   "outputs": [],
   "source": [
    "#ignoring warnings\n",
    "import warnings\n",
    "warnings.filterwarnings(\"ignore\")"
   ]
  },
  {
   "cell_type": "code",
   "execution_count": 3,
   "id": "11db3043",
   "metadata": {
    "execution": {
     "iopub.execute_input": "2022-05-14T16:42:56.008424Z",
     "iopub.status.busy": "2022-05-14T16:42:56.007809Z",
     "iopub.status.idle": "2022-05-14T16:42:56.142042Z",
     "shell.execute_reply": "2022-05-14T16:42:56.141138Z"
    },
    "papermill": {
     "duration": 0.191295,
     "end_time": "2022-05-14T16:42:56.144556",
     "exception": false,
     "start_time": "2022-05-14T16:42:55.953261",
     "status": "completed"
    },
    "tags": []
   },
   "outputs": [],
   "source": [
    "#Importing the dataset\n",
    "df=pd.read_csv(\"../input/twitter-tweets-sentiment-dataset/Tweets.csv\")"
   ]
  },
  {
   "cell_type": "markdown",
   "id": "d18ab112",
   "metadata": {
    "papermill": {
     "duration": 0.053925,
     "end_time": "2022-05-14T16:42:56.252423",
     "exception": false,
     "start_time": "2022-05-14T16:42:56.198498",
     "status": "completed"
    },
    "tags": []
   },
   "source": [
    "#  Data overview"
   ]
  },
  {
   "cell_type": "code",
   "execution_count": 4,
   "id": "21fe1af6",
   "metadata": {
    "execution": {
     "iopub.execute_input": "2022-05-14T16:42:56.362104Z",
     "iopub.status.busy": "2022-05-14T16:42:56.361804Z",
     "iopub.status.idle": "2022-05-14T16:42:56.381474Z",
     "shell.execute_reply": "2022-05-14T16:42:56.380832Z"
    },
    "papermill": {
     "duration": 0.077929,
     "end_time": "2022-05-14T16:42:56.383787",
     "exception": false,
     "start_time": "2022-05-14T16:42:56.305858",
     "status": "completed"
    },
    "tags": []
   },
   "outputs": [
    {
     "data": {
      "text/html": [
       "<div>\n",
       "<style scoped>\n",
       "    .dataframe tbody tr th:only-of-type {\n",
       "        vertical-align: middle;\n",
       "    }\n",
       "\n",
       "    .dataframe tbody tr th {\n",
       "        vertical-align: top;\n",
       "    }\n",
       "\n",
       "    .dataframe thead th {\n",
       "        text-align: right;\n",
       "    }\n",
       "</style>\n",
       "<table border=\"1\" class=\"dataframe\">\n",
       "  <thead>\n",
       "    <tr style=\"text-align: right;\">\n",
       "      <th></th>\n",
       "      <th>textID</th>\n",
       "      <th>text</th>\n",
       "      <th>selected_text</th>\n",
       "      <th>sentiment</th>\n",
       "    </tr>\n",
       "  </thead>\n",
       "  <tbody>\n",
       "    <tr>\n",
       "      <th>0</th>\n",
       "      <td>cb774db0d1</td>\n",
       "      <td>I`d have responded, if I were going</td>\n",
       "      <td>I`d have responded, if I were going</td>\n",
       "      <td>neutral</td>\n",
       "    </tr>\n",
       "    <tr>\n",
       "      <th>1</th>\n",
       "      <td>549e992a42</td>\n",
       "      <td>Sooo SAD I will miss you here in San Diego!!!</td>\n",
       "      <td>Sooo SAD</td>\n",
       "      <td>negative</td>\n",
       "    </tr>\n",
       "    <tr>\n",
       "      <th>2</th>\n",
       "      <td>088c60f138</td>\n",
       "      <td>my boss is bullying me...</td>\n",
       "      <td>bullying me</td>\n",
       "      <td>negative</td>\n",
       "    </tr>\n",
       "    <tr>\n",
       "      <th>3</th>\n",
       "      <td>9642c003ef</td>\n",
       "      <td>what interview! leave me alone</td>\n",
       "      <td>leave me alone</td>\n",
       "      <td>negative</td>\n",
       "    </tr>\n",
       "    <tr>\n",
       "      <th>4</th>\n",
       "      <td>358bd9e861</td>\n",
       "      <td>Sons of ****, why couldn`t they put them on t...</td>\n",
       "      <td>Sons of ****,</td>\n",
       "      <td>negative</td>\n",
       "    </tr>\n",
       "  </tbody>\n",
       "</table>\n",
       "</div>"
      ],
      "text/plain": [
       "       textID                                               text  \\\n",
       "0  cb774db0d1                I`d have responded, if I were going   \n",
       "1  549e992a42      Sooo SAD I will miss you here in San Diego!!!   \n",
       "2  088c60f138                          my boss is bullying me...   \n",
       "3  9642c003ef                     what interview! leave me alone   \n",
       "4  358bd9e861   Sons of ****, why couldn`t they put them on t...   \n",
       "\n",
       "                         selected_text sentiment  \n",
       "0  I`d have responded, if I were going   neutral  \n",
       "1                             Sooo SAD  negative  \n",
       "2                          bullying me  negative  \n",
       "3                       leave me alone  negative  \n",
       "4                        Sons of ****,  negative  "
      ]
     },
     "execution_count": 4,
     "metadata": {},
     "output_type": "execute_result"
    }
   ],
   "source": [
    "df.head()"
   ]
  },
  {
   "cell_type": "code",
   "execution_count": 5,
   "id": "4f87d614",
   "metadata": {
    "execution": {
     "iopub.execute_input": "2022-05-14T16:42:56.496907Z",
     "iopub.status.busy": "2022-05-14T16:42:56.496376Z",
     "iopub.status.idle": "2022-05-14T16:42:56.506161Z",
     "shell.execute_reply": "2022-05-14T16:42:56.505330Z"
    },
    "papermill": {
     "duration": 0.068343,
     "end_time": "2022-05-14T16:42:56.508500",
     "exception": false,
     "start_time": "2022-05-14T16:42:56.440157",
     "status": "completed"
    },
    "tags": []
   },
   "outputs": [],
   "source": [
    "df = df[['text', 'sentiment']]"
   ]
  },
  {
   "cell_type": "code",
   "execution_count": 6,
   "id": "14b9837d",
   "metadata": {
    "execution": {
     "iopub.execute_input": "2022-05-14T16:42:56.620436Z",
     "iopub.status.busy": "2022-05-14T16:42:56.619901Z",
     "iopub.status.idle": "2022-05-14T16:42:56.629508Z",
     "shell.execute_reply": "2022-05-14T16:42:56.628765Z"
    },
    "papermill": {
     "duration": 0.068118,
     "end_time": "2022-05-14T16:42:56.631579",
     "exception": false,
     "start_time": "2022-05-14T16:42:56.563461",
     "status": "completed"
    },
    "tags": []
   },
   "outputs": [
    {
     "data": {
      "text/html": [
       "<div>\n",
       "<style scoped>\n",
       "    .dataframe tbody tr th:only-of-type {\n",
       "        vertical-align: middle;\n",
       "    }\n",
       "\n",
       "    .dataframe tbody tr th {\n",
       "        vertical-align: top;\n",
       "    }\n",
       "\n",
       "    .dataframe thead th {\n",
       "        text-align: right;\n",
       "    }\n",
       "</style>\n",
       "<table border=\"1\" class=\"dataframe\">\n",
       "  <thead>\n",
       "    <tr style=\"text-align: right;\">\n",
       "      <th></th>\n",
       "      <th>text</th>\n",
       "      <th>sentiment</th>\n",
       "    </tr>\n",
       "  </thead>\n",
       "  <tbody>\n",
       "    <tr>\n",
       "      <th>0</th>\n",
       "      <td>I`d have responded, if I were going</td>\n",
       "      <td>neutral</td>\n",
       "    </tr>\n",
       "    <tr>\n",
       "      <th>1</th>\n",
       "      <td>Sooo SAD I will miss you here in San Diego!!!</td>\n",
       "      <td>negative</td>\n",
       "    </tr>\n",
       "    <tr>\n",
       "      <th>2</th>\n",
       "      <td>my boss is bullying me...</td>\n",
       "      <td>negative</td>\n",
       "    </tr>\n",
       "    <tr>\n",
       "      <th>3</th>\n",
       "      <td>what interview! leave me alone</td>\n",
       "      <td>negative</td>\n",
       "    </tr>\n",
       "    <tr>\n",
       "      <th>4</th>\n",
       "      <td>Sons of ****, why couldn`t they put them on t...</td>\n",
       "      <td>negative</td>\n",
       "    </tr>\n",
       "  </tbody>\n",
       "</table>\n",
       "</div>"
      ],
      "text/plain": [
       "                                                text sentiment\n",
       "0                I`d have responded, if I were going   neutral\n",
       "1      Sooo SAD I will miss you here in San Diego!!!  negative\n",
       "2                          my boss is bullying me...  negative\n",
       "3                     what interview! leave me alone  negative\n",
       "4   Sons of ****, why couldn`t they put them on t...  negative"
      ]
     },
     "execution_count": 6,
     "metadata": {},
     "output_type": "execute_result"
    }
   ],
   "source": [
    "df.head()"
   ]
  },
  {
   "cell_type": "code",
   "execution_count": 7,
   "id": "d6818fb0",
   "metadata": {
    "execution": {
     "iopub.execute_input": "2022-05-14T16:42:56.745211Z",
     "iopub.status.busy": "2022-05-14T16:42:56.744936Z",
     "iopub.status.idle": "2022-05-14T16:42:56.768743Z",
     "shell.execute_reply": "2022-05-14T16:42:56.767690Z"
    },
    "papermill": {
     "duration": 0.084473,
     "end_time": "2022-05-14T16:42:56.772028",
     "exception": false,
     "start_time": "2022-05-14T16:42:56.687555",
     "status": "completed"
    },
    "tags": []
   },
   "outputs": [
    {
     "name": "stdout",
     "output_type": "stream",
     "text": [
      "<class 'pandas.core.frame.DataFrame'>\n",
      "RangeIndex: 27481 entries, 0 to 27480\n",
      "Data columns (total 2 columns):\n",
      " #   Column     Non-Null Count  Dtype \n",
      "---  ------     --------------  ----- \n",
      " 0   text       27480 non-null  object\n",
      " 1   sentiment  27481 non-null  object\n",
      "dtypes: object(2)\n",
      "memory usage: 429.5+ KB\n"
     ]
    }
   ],
   "source": [
    "df.info()"
   ]
  },
  {
   "cell_type": "markdown",
   "id": "c04ea656",
   "metadata": {
    "papermill": {
     "duration": 0.056446,
     "end_time": "2022-05-14T16:42:56.886152",
     "exception": false,
     "start_time": "2022-05-14T16:42:56.829706",
     "status": "completed"
    },
    "tags": []
   },
   "source": [
    "# Data Preprocessing"
   ]
  },
  {
   "cell_type": "code",
   "execution_count": 8,
   "id": "c3dd4ea3",
   "metadata": {
    "execution": {
     "iopub.execute_input": "2022-05-14T16:42:56.998851Z",
     "iopub.status.busy": "2022-05-14T16:42:56.998553Z",
     "iopub.status.idle": "2022-05-14T16:42:57.013015Z",
     "shell.execute_reply": "2022-05-14T16:42:57.012048Z"
    },
    "papermill": {
     "duration": 0.073673,
     "end_time": "2022-05-14T16:42:57.015256",
     "exception": false,
     "start_time": "2022-05-14T16:42:56.941583",
     "status": "completed"
    },
    "tags": []
   },
   "outputs": [
    {
     "data": {
      "text/plain": [
       "text         1\n",
       "sentiment    0\n",
       "dtype: int64"
      ]
     },
     "execution_count": 8,
     "metadata": {},
     "output_type": "execute_result"
    }
   ],
   "source": [
    "#checking for null values\n",
    "df.isnull().sum()"
   ]
  },
  {
   "cell_type": "code",
   "execution_count": 9,
   "id": "2ea58437",
   "metadata": {
    "execution": {
     "iopub.execute_input": "2022-05-14T16:42:57.131056Z",
     "iopub.status.busy": "2022-05-14T16:42:57.130477Z",
     "iopub.status.idle": "2022-05-14T16:42:57.142911Z",
     "shell.execute_reply": "2022-05-14T16:42:57.142081Z"
    },
    "papermill": {
     "duration": 0.072636,
     "end_time": "2022-05-14T16:42:57.145270",
     "exception": false,
     "start_time": "2022-05-14T16:42:57.072634",
     "status": "completed"
    },
    "tags": []
   },
   "outputs": [],
   "source": [
    "# dropping null values\n",
    "df.dropna(inplace=True)"
   ]
  },
  {
   "cell_type": "code",
   "execution_count": 10,
   "id": "8d9686c9",
   "metadata": {
    "execution": {
     "iopub.execute_input": "2022-05-14T16:42:57.258129Z",
     "iopub.status.busy": "2022-05-14T16:42:57.257626Z",
     "iopub.status.idle": "2022-05-14T16:42:57.270172Z",
     "shell.execute_reply": "2022-05-14T16:42:57.269383Z"
    },
    "papermill": {
     "duration": 0.071812,
     "end_time": "2022-05-14T16:42:57.272263",
     "exception": false,
     "start_time": "2022-05-14T16:42:57.200451",
     "status": "completed"
    },
    "tags": []
   },
   "outputs": [
    {
     "data": {
      "text/plain": [
       "text         0\n",
       "sentiment    0\n",
       "dtype: int64"
      ]
     },
     "execution_count": 10,
     "metadata": {},
     "output_type": "execute_result"
    }
   ],
   "source": [
    "df.isnull().sum()"
   ]
  },
  {
   "cell_type": "code",
   "execution_count": 11,
   "id": "5b268418",
   "metadata": {
    "execution": {
     "iopub.execute_input": "2022-05-14T16:42:57.386820Z",
     "iopub.status.busy": "2022-05-14T16:42:57.386489Z",
     "iopub.status.idle": "2022-05-14T16:42:57.403690Z",
     "shell.execute_reply": "2022-05-14T16:42:57.402211Z"
    },
    "papermill": {
     "duration": 0.077951,
     "end_time": "2022-05-14T16:42:57.406877",
     "exception": false,
     "start_time": "2022-05-14T16:42:57.328926",
     "status": "completed"
    },
    "tags": []
   },
   "outputs": [
    {
     "name": "stdout",
     "output_type": "stream",
     "text": [
      "<class 'pandas.core.frame.DataFrame'>\n",
      "Int64Index: 27480 entries, 0 to 27480\n",
      "Data columns (total 2 columns):\n",
      " #   Column     Non-Null Count  Dtype \n",
      "---  ------     --------------  ----- \n",
      " 0   text       27480 non-null  object\n",
      " 1   sentiment  27480 non-null  object\n",
      "dtypes: object(2)\n",
      "memory usage: 644.1+ KB\n"
     ]
    }
   ],
   "source": [
    "df.info()"
   ]
  },
  {
   "cell_type": "code",
   "execution_count": 12,
   "id": "4f93a72d",
   "metadata": {
    "execution": {
     "iopub.execute_input": "2022-05-14T16:42:57.522741Z",
     "iopub.status.busy": "2022-05-14T16:42:57.522469Z",
     "iopub.status.idle": "2022-05-14T16:42:58.351931Z",
     "shell.execute_reply": "2022-05-14T16:42:58.350843Z"
    },
    "papermill": {
     "duration": 0.890407,
     "end_time": "2022-05-14T16:42:58.354634",
     "exception": false,
     "start_time": "2022-05-14T16:42:57.464227",
     "status": "completed"
    },
    "tags": []
   },
   "outputs": [],
   "source": [
    "import re\n",
    "from nltk.corpus import stopwords\n",
    "from nltk.stem.snowball import SnowballStemmer\n",
    "import string"
   ]
  },
  {
   "cell_type": "code",
   "execution_count": 13,
   "id": "c182f96b",
   "metadata": {
    "execution": {
     "iopub.execute_input": "2022-05-14T16:42:58.470603Z",
     "iopub.status.busy": "2022-05-14T16:42:58.470243Z",
     "iopub.status.idle": "2022-05-14T16:42:58.488365Z",
     "shell.execute_reply": "2022-05-14T16:42:58.487366Z"
    },
    "papermill": {
     "duration": 0.079694,
     "end_time": "2022-05-14T16:42:58.490813",
     "exception": false,
     "start_time": "2022-05-14T16:42:58.411119",
     "status": "completed"
    },
    "tags": []
   },
   "outputs": [],
   "source": [
    "STOPWORDS = set(stopwords.words('english'))\n",
    "STOPWORDS.update(['rt', 'mkr', 'didn', 'bc', 'n', 'm', \n",
    "                  'im', 'll', 'y', 've', 'u', 'ur', 'don', \n",
    "                  'p', 't', 's', 'aren', 'kp', 'o', 'kat', \n",
    "                  'de', 're', 'amp', 'will', 'wa', 'e', 'like'])\n",
    "stemmer = SnowballStemmer('english')\n",
    "def clean_text(text):\n",
    "    \n",
    "    # Remove Hashtag, Mention, URLs\n",
    "    pattern = re.compile(r\"(#[A-Za-z0-9]+|@[A-Za-z0-9]+|https?://\\S+|www\\.\\S+|\\S+\\.[a-z]+|RT @)\")\n",
    "    text = pattern.sub('', text)\n",
    "    text = \" \".join(text.split())\n",
    "    \n",
    "    # Make all text lowercase\n",
    "    text = text.lower()\n",
    "    \n",
    "    # Stemming\n",
    "    text = \" \".join([stemmer.stem(word) for word in text.split()])\n",
    "    \n",
    "    # Removing Punctuations\n",
    "    remove_punc = re.compile(r\"[%s]\" % re.escape(string.punctuation))\n",
    "    text = remove_punc.sub('', text)\n",
    "    \n",
    "    # Removing stopwords\n",
    "    text = \" \".join([word for word in str(text).split() if word not in STOPWORDS])\n",
    "    \n",
    "    return text"
   ]
  },
  {
   "cell_type": "code",
   "execution_count": 14,
   "id": "95c6c31f",
   "metadata": {
    "execution": {
     "iopub.execute_input": "2022-05-14T16:42:58.605101Z",
     "iopub.status.busy": "2022-05-14T16:42:58.604788Z",
     "iopub.status.idle": "2022-05-14T16:43:04.078823Z",
     "shell.execute_reply": "2022-05-14T16:43:04.078081Z"
    },
    "papermill": {
     "duration": 5.534289,
     "end_time": "2022-05-14T16:43:04.081404",
     "exception": false,
     "start_time": "2022-05-14T16:42:58.547115",
     "status": "completed"
    },
    "tags": []
   },
   "outputs": [],
   "source": [
    "df['cleaned_text'] = df['text'].apply(lambda text: clean_text(text))  # Applying the cleaning to the text data"
   ]
  },
  {
   "cell_type": "code",
   "execution_count": 15,
   "id": "507c7390",
   "metadata": {
    "execution": {
     "iopub.execute_input": "2022-05-14T16:43:04.200045Z",
     "iopub.status.busy": "2022-05-14T16:43:04.199049Z",
     "iopub.status.idle": "2022-05-14T16:43:04.210885Z",
     "shell.execute_reply": "2022-05-14T16:43:04.209948Z"
    },
    "papermill": {
     "duration": 0.075103,
     "end_time": "2022-05-14T16:43:04.212895",
     "exception": false,
     "start_time": "2022-05-14T16:43:04.137792",
     "status": "completed"
    },
    "tags": []
   },
   "outputs": [
    {
     "data": {
      "text/html": [
       "<div>\n",
       "<style scoped>\n",
       "    .dataframe tbody tr th:only-of-type {\n",
       "        vertical-align: middle;\n",
       "    }\n",
       "\n",
       "    .dataframe tbody tr th {\n",
       "        vertical-align: top;\n",
       "    }\n",
       "\n",
       "    .dataframe thead th {\n",
       "        text-align: right;\n",
       "    }\n",
       "</style>\n",
       "<table border=\"1\" class=\"dataframe\">\n",
       "  <thead>\n",
       "    <tr style=\"text-align: right;\">\n",
       "      <th></th>\n",
       "      <th>text</th>\n",
       "      <th>sentiment</th>\n",
       "      <th>cleaned_text</th>\n",
       "    </tr>\n",
       "  </thead>\n",
       "  <tbody>\n",
       "    <tr>\n",
       "      <th>0</th>\n",
       "      <td>I`d have responded, if I were going</td>\n",
       "      <td>neutral</td>\n",
       "      <td>id responded go</td>\n",
       "    </tr>\n",
       "    <tr>\n",
       "      <th>1</th>\n",
       "      <td>Sooo SAD I will miss you here in San Diego!!!</td>\n",
       "      <td>negative</td>\n",
       "      <td>sooo sad miss san diego</td>\n",
       "    </tr>\n",
       "    <tr>\n",
       "      <th>2</th>\n",
       "      <td>my boss is bullying me...</td>\n",
       "      <td>negative</td>\n",
       "      <td>boss bulli</td>\n",
       "    </tr>\n",
       "    <tr>\n",
       "      <th>3</th>\n",
       "      <td>what interview! leave me alone</td>\n",
       "      <td>negative</td>\n",
       "      <td>interview leav alon</td>\n",
       "    </tr>\n",
       "    <tr>\n",
       "      <th>4</th>\n",
       "      <td>Sons of ****, why couldn`t they put them on t...</td>\n",
       "      <td>negative</td>\n",
       "      <td>son whi couldnt put releas alreadi bought</td>\n",
       "    </tr>\n",
       "  </tbody>\n",
       "</table>\n",
       "</div>"
      ],
      "text/plain": [
       "                                                text sentiment  \\\n",
       "0                I`d have responded, if I were going   neutral   \n",
       "1      Sooo SAD I will miss you here in San Diego!!!  negative   \n",
       "2                          my boss is bullying me...  negative   \n",
       "3                     what interview! leave me alone  negative   \n",
       "4   Sons of ****, why couldn`t they put them on t...  negative   \n",
       "\n",
       "                                cleaned_text  \n",
       "0                            id responded go  \n",
       "1                    sooo sad miss san diego  \n",
       "2                                 boss bulli  \n",
       "3                        interview leav alon  \n",
       "4  son whi couldnt put releas alreadi bought  "
      ]
     },
     "execution_count": 15,
     "metadata": {},
     "output_type": "execute_result"
    }
   ],
   "source": [
    "df.head()"
   ]
  },
  {
   "cell_type": "code",
   "execution_count": 16,
   "id": "fb951665",
   "metadata": {
    "execution": {
     "iopub.execute_input": "2022-05-14T16:43:04.329473Z",
     "iopub.status.busy": "2022-05-14T16:43:04.328762Z",
     "iopub.status.idle": "2022-05-14T16:43:04.338894Z",
     "shell.execute_reply": "2022-05-14T16:43:04.338304Z"
    },
    "papermill": {
     "duration": 0.070463,
     "end_time": "2022-05-14T16:43:04.340904",
     "exception": false,
     "start_time": "2022-05-14T16:43:04.270441",
     "status": "completed"
    },
    "tags": []
   },
   "outputs": [
    {
     "data": {
      "text/plain": [
       "691"
      ]
     },
     "execution_count": 16,
     "metadata": {},
     "output_type": "execute_result"
    }
   ],
   "source": [
    "df['cleaned_text'].duplicated().sum() #checkimng for duplicate values"
   ]
  },
  {
   "cell_type": "code",
   "execution_count": 17,
   "id": "21e92d81",
   "metadata": {
    "execution": {
     "iopub.execute_input": "2022-05-14T16:43:04.460669Z",
     "iopub.status.busy": "2022-05-14T16:43:04.459947Z",
     "iopub.status.idle": "2022-05-14T16:43:04.476411Z",
     "shell.execute_reply": "2022-05-14T16:43:04.475507Z"
    },
    "papermill": {
     "duration": 0.079988,
     "end_time": "2022-05-14T16:43:04.479232",
     "exception": false,
     "start_time": "2022-05-14T16:43:04.399244",
     "status": "completed"
    },
    "tags": []
   },
   "outputs": [],
   "source": [
    "df.drop_duplicates(\"cleaned_text\", inplace = True) #dropping duplicate values"
   ]
  },
  {
   "cell_type": "code",
   "execution_count": 18,
   "id": "f1a2a076",
   "metadata": {
    "execution": {
     "iopub.execute_input": "2022-05-14T16:43:04.597399Z",
     "iopub.status.busy": "2022-05-14T16:43:04.597108Z",
     "iopub.status.idle": "2022-05-14T16:43:04.616954Z",
     "shell.execute_reply": "2022-05-14T16:43:04.615972Z"
    },
    "papermill": {
     "duration": 0.081635,
     "end_time": "2022-05-14T16:43:04.619509",
     "exception": false,
     "start_time": "2022-05-14T16:43:04.537874",
     "status": "completed"
    },
    "tags": []
   },
   "outputs": [
    {
     "data": {
      "text/plain": [
       "0"
      ]
     },
     "execution_count": 18,
     "metadata": {},
     "output_type": "execute_result"
    }
   ],
   "source": [
    "df['cleaned_text'].str.isspace().sum()       # Checking for tweets with only whitespaces"
   ]
  },
  {
   "cell_type": "code",
   "execution_count": 19,
   "id": "01f873ba",
   "metadata": {
    "execution": {
     "iopub.execute_input": "2022-05-14T16:43:04.739187Z",
     "iopub.status.busy": "2022-05-14T16:43:04.738900Z",
     "iopub.status.idle": "2022-05-14T16:43:04.755582Z",
     "shell.execute_reply": "2022-05-14T16:43:04.754615Z"
    },
    "papermill": {
     "duration": 0.078519,
     "end_time": "2022-05-14T16:43:04.757871",
     "exception": false,
     "start_time": "2022-05-14T16:43:04.679352",
     "status": "completed"
    },
    "tags": []
   },
   "outputs": [
    {
     "data": {
      "text/plain": [
       "text            0\n",
       "sentiment       0\n",
       "cleaned_text    0\n",
       "dtype: int64"
      ]
     },
     "execution_count": 19,
     "metadata": {},
     "output_type": "execute_result"
    }
   ],
   "source": [
    "df.isnull().sum()   # checking for null values"
   ]
  },
  {
   "cell_type": "code",
   "execution_count": 20,
   "id": "42868ed2",
   "metadata": {
    "execution": {
     "iopub.execute_input": "2022-05-14T16:43:04.875384Z",
     "iopub.status.busy": "2022-05-14T16:43:04.875086Z",
     "iopub.status.idle": "2022-05-14T16:43:04.886314Z",
     "shell.execute_reply": "2022-05-14T16:43:04.885377Z"
    },
    "papermill": {
     "duration": 0.073137,
     "end_time": "2022-05-14T16:43:04.888728",
     "exception": false,
     "start_time": "2022-05-14T16:43:04.815591",
     "status": "completed"
    },
    "tags": []
   },
   "outputs": [
    {
     "data": {
      "text/plain": [
       "neutral     10804\n",
       "positive     8328\n",
       "negative     7657\n",
       "Name: sentiment, dtype: int64"
      ]
     },
     "execution_count": 20,
     "metadata": {},
     "output_type": "execute_result"
    }
   ],
   "source": [
    "df['sentiment'].value_counts()"
   ]
  },
  {
   "cell_type": "code",
   "execution_count": 21,
   "id": "ba2233a0",
   "metadata": {
    "execution": {
     "iopub.execute_input": "2022-05-14T16:43:05.009371Z",
     "iopub.status.busy": "2022-05-14T16:43:05.009080Z",
     "iopub.status.idle": "2022-05-14T16:43:05.277850Z",
     "shell.execute_reply": "2022-05-14T16:43:05.276556Z"
    },
    "papermill": {
     "duration": 0.331943,
     "end_time": "2022-05-14T16:43:05.281179",
     "exception": false,
     "start_time": "2022-05-14T16:43:04.949236",
     "status": "completed"
    },
    "tags": []
   },
   "outputs": [
    {
     "data": {
      "text/plain": [
       "<AxesSubplot:xlabel='sentiment', ylabel='count'>"
      ]
     },
     "execution_count": 21,
     "metadata": {},
     "output_type": "execute_result"
    },
    {
     "data": {
      "image/png": "[encoded data removed]",
      "text/plain": [
       "<Figure size 432x288 with 1 Axes>"
      ]
     },
     "metadata": {
      "needs_background": "light"
     },
     "output_type": "display_data"
    }
   ],
   "source": [
    "sns.countplot(data = df, x = 'sentiment')"
   ]
  },
  {
   "cell_type": "code",
   "execution_count": 22,
   "id": "fca35330",
   "metadata": {
    "execution": {
     "iopub.execute_input": "2022-05-14T16:43:05.404454Z",
     "iopub.status.busy": "2022-05-14T16:43:05.403547Z",
     "iopub.status.idle": "2022-05-14T16:43:06.948453Z",
     "shell.execute_reply": "2022-05-14T16:43:06.947492Z"
    },
    "papermill": {
     "duration": 1.608423,
     "end_time": "2022-05-14T16:43:06.950775",
     "exception": false,
     "start_time": "2022-05-14T16:43:05.342352",
     "status": "completed"
    },
    "tags": []
   },
   "outputs": [
    {
     "data": {
      "text/html": [
       "        <script type=\"text/javascript\">\n",
       "        window.PlotlyConfig = {MathJaxConfig: 'local'};\n",
       "        if (window.MathJax && window.MathJax.Hub && window.MathJax.Hub.Config) {window.MathJax.Hub.Config({SVG: {font: \"STIX-Web\"}});}\n",
       "        if (typeof require !== 'undefined') {\n",
       "        require.undef(\"plotly\");\n",
       "        requirejs.config({\n",
       "            paths: {\n",
       "                'plotly': ['https://cdn.plot.ly/plotly-2.12.1.min']\n",
       "            }\n",
       "        });\n",
       "        require(['plotly'], function(Plotly) {\n",
       "            window._Plotly = Plotly;\n",
       "        });\n",
       "        }\n",
       "        </script>\n",
       "        "
      ]
     },
     "metadata": {},
     "output_type": "display_data"
    },
    {
     "data": {
      "text/html": [
       "<div>                            <div id=\"3638814c-3430-4bf8-8cac-26f31871f63e\" class=\"plotly-graph-div\" style=\"height:525px; width:100%;\"></div>            <script type=\"text/javascript\">                require([\"plotly\"], function(Plotly) {                    window.PLOTLYENV=window.PLOTLYENV || {};                                    if (document.getElementById(\"3638814c-3430-4bf8-8cac-26f31871f63e\")) {                    Plotly.newPlot(                        \"3638814c-3430-4bf8-8cac-26f31871f63e\",                        [{\"alignmentgroup\":\"True\",\"customdata\":[[1018],[816],[604],[589],[484],[464],[451],[448],[441],[440],[432],[413],[411],[377],[354]],\"hovertemplate\":\"<b>Count: </b>%{customdata[0]}\",\"legendgroup\":\"\",\"marker\":{\"color\":\"red\",\"coloraxis\":\"coloraxis\",\"pattern\":{\"shape\":\"\"}},\"name\":\"\",\"offsetgroup\":\"\",\"orientation\":\"v\",\"showlegend\":false,\"textposition\":\"auto\",\"x\":[\"go\",\"get\",\"day\",\"work\",\"dont\",\"got\",\"time\",\"lol\",\"want\",\"today\",\"one\",\"know\",\"back\",\"see\",\"think\"],\"xaxis\":\"x\",\"y\":[1018,816,604,589,484,464,451,448,441,440,432,413,411,377,354],\"yaxis\":\"y\",\"type\":\"bar\"}],                        {\"template\":{\"data\":{\"barpolar\":[{\"marker\":{\"line\":{\"color\":\"white\",\"width\":0.5},\"pattern\":{\"fillmode\":\"overlay\",\"size\":10,\"solidity\":0.2}},\"type\":\"barpolar\"}],\"bar\":[{\"error_x\":{\"color\":\"rgb(36,36,36)\"},\"error_y\":{\"color\":\"rgb(36,36,36)\"},\"marker\":{\"line\":{\"color\":\"white\",\"width\":0.5},\"pattern\":{\"fillmode\":\"overlay\",\"size\":10,\"solidity\":0.2}},\"type\":\"bar\"}],\"carpet\":[{\"aaxis\":{\"endlinecolor\":\"rgb(36,36,36)\",\"gridcolor\":\"white\",\"linecolor\":\"white\",\"minorgridcolor\":\"white\",\"startlinecolor\":\"rgb(36,36,36)\"},\"baxis\":{\"endlinecolor\":\"rgb(36,36,36)\",\"gridcolor\":\"white\",\"linecolor\":\"white\",\"minorgridcolor\":\"white\",\"startlinecolor\":\"rgb(36,36,36)\"},\"type\":\"carpet\"}],\"choropleth\":[{\"colorbar\":{\"outlinewidth\":1,\"tickcolor\":\"rgb(36,36,36)\",\"ticks\":\"outside\"},\"type\":\"choropleth\"}],\"contourcarpet\":[{\"colorbar\":{\"outlinewidth\":1,\"tickcolor\":\"rgb(36,36,36)\",\"ticks\":\"outside\"},\"type\":\"contourcarpet\"}],\"contour\":[{\"colorbar\":{\"outlinewidth\":1,\"tickcolor\":\"rgb(36,36,36)\",\"ticks\":\"outside\"},\"colorscale\":[[0.0,\"#440154\"],[0.1111111111111111,\"#482878\"],[0.2222222222222222,\"#3e4989\"],[0.3333333333333333,\"#31688e\"],[0.4444444444444444,\"#26828e\"],[0.5555555555555556,\"#1f9e89\"],[0.6666666666666666,\"#35b779\"],[0.7777777777777778,\"#6ece58\"],[0.8888888888888888,\"#b5de2b\"],[1.0,\"#fde725\"]],\"type\":\"contour\"}],\"heatmapgl\":[{\"colorbar\":{\"outlinewidth\":1,\"tickcolor\":\"rgb(36,36,36)\",\"ticks\":\"outside\"},\"colorscale\":[[0.0,\"#440154\"],[0.1111111111111111,\"#482878\"],[0.2222222222222222,\"#3e4989\"],[0.3333333333333333,\"#31688e\"],[0.4444444444444444,\"#26828e\"],[0.5555555555555556,\"#1f9e89\"],[0.6666666666666666,\"#35b779\"],[0.7777777777777778,\"#6ece58\"],[0.8888888888888888,\"#b5de2b\"],[1.0,\"#fde725\"]],\"type\":\"heatmapgl\"}],\"heatmap\":[{\"colorbar\":{\"outlinewidth\":1,\"tickcolor\":\"rgb(36,36,36)\",\"ticks\":\"outside\"},\"colorscale\":[[0.0,\"#440154\"],[0.1111111111111111,\"#482878\"],[0.2222222222222222,\"#3e4989\"],[0.3333333333333333,\"#31688e\"],[0.4444444444444444,\"#26828e\"],[0.5555555555555556,\"#1f9e89\"],[0.6666666666666666,\"#35b779\"],[0.7777777777777778,\"#6ece58\"],[0.8888888888888888,\"#b5de2b\"],[1.0,\"#fde725\"]],\"type\":\"heatmap\"}],\"histogram2dcontour\":[{\"colorbar\":{\"outlinewidth\":1,\"tickcolor\":\"rgb(36,36,36)\",\"ticks\":\"outside\"},\"colorscale\":[[0.0,\"#440154\"],[0.1111111111111111,\"#482878\"],[0.2222222222222222,\"#3e4989\"],[0.3333333333333333,\"#31688e\"],[0.4444444444444444,\"#26828e\"],[0.5555555555555556,\"#1f9e89\"],[0.6666666666666666,\"#35b779\"],[0.7777777777777778,\"#6ece58\"],[0.8888888888888888,\"#b5de2b\"],[1.0,\"#fde725\"]],\"type\":\"histogram2dcontour\"}],\"histogram2d\":[{\"colorbar\":{\"outlinewidth\":1,\"tickcolor\":\"rgb(36,36,36)\",\"ticks\":\"outside\"},\"colorscale\":[[0.0,\"#440154\"],[0.1111111111111111,\"#482878\"],[0.2222222222222222,\"#3e4989\"],[0.3333333333333333,\"#31688e\"],[0.4444444444444444,\"#26828e\"],[0.5555555555555556,\"#1f9e89\"],[0.6666666666666666,\"#35b779\"],[0.7777777777777778,\"#6ece58\"],[0.8888888888888888,\"#b5de2b\"],[1.0,\"#fde725\"]],\"type\":\"histogram2d\"}],\"histogram\":[{\"marker\":{\"line\":{\"color\":\"white\",\"width\":0.6}},\"type\":\"histogram\"}],\"mesh3d\":[{\"colorbar\":{\"outlinewidth\":1,\"tickcolor\":\"rgb(36,36,36)\",\"ticks\":\"outside\"},\"type\":\"mesh3d\"}],\"parcoords\":[{\"line\":{\"colorbar\":{\"outlinewidth\":1,\"tickcolor\":\"rgb(36,36,36)\",\"ticks\":\"outside\"}},\"type\":\"parcoords\"}],\"pie\":[{\"automargin\":true,\"type\":\"pie\"}],\"scatter3d\":[{\"line\":{\"colorbar\":{\"outlinewidth\":1,\"tickcolor\":\"rgb(36,36,36)\",\"ticks\":\"outside\"}},\"marker\":{\"colorbar\":{\"outlinewidth\":1,\"tickcolor\":\"rgb(36,36,36)\",\"ticks\":\"outside\"}},\"type\":\"scatter3d\"}],\"scattercarpet\":[{\"marker\":{\"colorbar\":{\"outlinewidth\":1,\"tickcolor\":\"rgb(36,36,36)\",\"ticks\":\"outside\"}},\"type\":\"scattercarpet\"}],\"scattergeo\":[{\"marker\":{\"colorbar\":{\"outlinewidth\":1,\"tickcolor\":\"rgb(36,36,36)\",\"ticks\":\"outside\"}},\"type\":\"scattergeo\"}],\"scattergl\":[{\"marker\":{\"colorbar\":{\"outlinewidth\":1,\"tickcolor\":\"rgb(36,36,36)\",\"ticks\":\"outside\"}},\"type\":\"scattergl\"}],\"scattermapbox\":[{\"marker\":{\"colorbar\":{\"outlinewidth\":1,\"tickcolor\":\"rgb(36,36,36)\",\"ticks\":\"outside\"}},\"type\":\"scattermapbox\"}],\"scatterpolargl\":[{\"marker\":{\"colorbar\":{\"outlinewidth\":1,\"tickcolor\":\"rgb(36,36,36)\",\"ticks\":\"outside\"}},\"type\":\"scatterpolargl\"}],\"scatterpolar\":[{\"marker\":{\"colorbar\":{\"outlinewidth\":1,\"tickcolor\":\"rgb(36,36,36)\",\"ticks\":\"outside\"}},\"type\":\"scatterpolar\"}],\"scatter\":[{\"fillpattern\":{\"fillmode\":\"overlay\",\"size\":10,\"solidity\":0.2},\"type\":\"scatter\"}],\"scatterternary\":[{\"marker\":{\"colorbar\":{\"outlinewidth\":1,\"tickcolor\":\"rgb(36,36,36)\",\"ticks\":\"outside\"}},\"type\":\"scatterternary\"}],\"surface\":[{\"colorbar\":{\"outlinewidth\":1,\"tickcolor\":\"rgb(36,36,36)\",\"ticks\":\"outside\"},\"colorscale\":[[0.0,\"#440154\"],[0.1111111111111111,\"#482878\"],[0.2222222222222222,\"#3e4989\"],[0.3333333333333333,\"#31688e\"],[0.4444444444444444,\"#26828e\"],[0.5555555555555556,\"#1f9e89\"],[0.6666666666666666,\"#35b779\"],[0.7777777777777778,\"#6ece58\"],[0.8888888888888888,\"#b5de2b\"],[1.0,\"#fde725\"]],\"type\":\"surface\"}],\"table\":[{\"cells\":{\"fill\":{\"color\":\"rgb(237,237,237)\"},\"line\":{\"color\":\"white\"}},\"header\":{\"fill\":{\"color\":\"rgb(217,217,217)\"},\"line\":{\"color\":\"white\"}},\"type\":\"table\"}]},\"layout\":{\"annotationdefaults\":{\"arrowhead\":0,\"arrowwidth\":1},\"autotypenumbers\":\"strict\",\"coloraxis\":{\"colorbar\":{\"outlinewidth\":1,\"tickcolor\":\"rgb(36,36,36)\",\"ticks\":\"outside\"}},\"colorscale\":{\"diverging\":[[0.0,\"rgb(103,0,31)\"],[0.1,\"rgb(178,24,43)\"],[0.2,\"rgb(214,96,77)\"],[0.3,\"rgb(244,165,130)\"],[0.4,\"rgb(253,219,199)\"],[0.5,\"rgb(247,247,247)\"],[0.6,\"rgb(209,229,240)\"],[0.7,\"rgb(146,197,222)\"],[0.8,\"rgb(67,147,195)\"],[0.9,\"rgb(33,102,172)\"],[1.0,\"rgb(5,48,97)\"]],\"sequential\":[[0.0,\"#440154\"],[0.1111111111111111,\"#482878\"],[0.2222222222222222,\"#3e4989\"],[0.3333333333333333,\"#31688e\"],[0.4444444444444444,\"#26828e\"],[0.5555555555555556,\"#1f9e89\"],[0.6666666666666666,\"#35b779\"],[0.7777777777777778,\"#6ece58\"],[0.8888888888888888,\"#b5de2b\"],[1.0,\"#fde725\"]],\"sequentialminus\":[[0.0,\"#440154\"],[0.1111111111111111,\"#482878\"],[0.2222222222222222,\"#3e4989\"],[0.3333333333333333,\"#31688e\"],[0.4444444444444444,\"#26828e\"],[0.5555555555555556,\"#1f9e89\"],[0.6666666666666666,\"#35b779\"],[0.7777777777777778,\"#6ece58\"],[0.8888888888888888,\"#b5de2b\"],[1.0,\"#fde725\"]]},\"colorway\":[\"#1F77B4\",\"#FF7F0E\",\"#2CA02C\",\"#D62728\",\"#9467BD\",\"#8C564B\",\"#E377C2\",\"#7F7F7F\",\"#BCBD22\",\"#17BECF\"],\"font\":{\"color\":\"rgb(36,36,36)\"},\"geo\":{\"bgcolor\":\"white\",\"lakecolor\":\"white\",\"landcolor\":\"white\",\"showlakes\":true,\"showland\":true,\"subunitcolor\":\"white\"},\"hoverlabel\":{\"align\":\"left\"},\"hovermode\":\"closest\",\"mapbox\":{\"style\":\"light\"},\"paper_bgcolor\":\"white\",\"plot_bgcolor\":\"white\",\"polar\":{\"angularaxis\":{\"gridcolor\":\"rgb(232,232,232)\",\"linecolor\":\"rgb(36,36,36)\",\"showgrid\":false,\"showline\":true,\"ticks\":\"outside\"},\"bgcolor\":\"white\",\"radialaxis\":{\"gridcolor\":\"rgb(232,232,232)\",\"linecolor\":\"rgb(36,36,36)\",\"showgrid\":false,\"showline\":true,\"ticks\":\"outside\"}},\"scene\":{\"xaxis\":{\"backgroundcolor\":\"white\",\"gridcolor\":\"rgb(232,232,232)\",\"gridwidth\":2,\"linecolor\":\"rgb(36,36,36)\",\"showbackground\":true,\"showgrid\":false,\"showline\":true,\"ticks\":\"outside\",\"zeroline\":false,\"zerolinecolor\":\"rgb(36,36,36)\"},\"yaxis\":{\"backgroundcolor\":\"white\",\"gridcolor\":\"rgb(232,232,232)\",\"gridwidth\":2,\"linecolor\":\"rgb(36,36,36)\",\"showbackground\":true,\"showgrid\":false,\"showline\":true,\"ticks\":\"outside\",\"zeroline\":false,\"zerolinecolor\":\"rgb(36,36,36)\"},\"zaxis\":{\"backgroundcolor\":\"white\",\"gridcolor\":\"rgb(232,232,232)\",\"gridwidth\":2,\"linecolor\":\"rgb(36,36,36)\",\"showbackground\":true,\"showgrid\":false,\"showline\":true,\"ticks\":\"outside\",\"zeroline\":false,\"zerolinecolor\":\"rgb(36,36,36)\"}},\"shapedefaults\":{\"fillcolor\":\"black\",\"line\":{\"width\":0},\"opacity\":0.3},\"ternary\":{\"aaxis\":{\"gridcolor\":\"rgb(232,232,232)\",\"linecolor\":\"rgb(36,36,36)\",\"showgrid\":false,\"showline\":true,\"ticks\":\"outside\"},\"baxis\":{\"gridcolor\":\"rgb(232,232,232)\",\"linecolor\":\"rgb(36,36,36)\",\"showgrid\":false,\"showline\":true,\"ticks\":\"outside\"},\"bgcolor\":\"white\",\"caxis\":{\"gridcolor\":\"rgb(232,232,232)\",\"linecolor\":\"rgb(36,36,36)\",\"showgrid\":false,\"showline\":true,\"ticks\":\"outside\"}},\"title\":{\"x\":0.05},\"xaxis\":{\"automargin\":true,\"gridcolor\":\"rgb(232,232,232)\",\"linecolor\":\"rgb(36,36,36)\",\"showgrid\":false,\"showline\":true,\"ticks\":\"outside\",\"title\":{\"standoff\":15},\"zeroline\":false,\"zerolinecolor\":\"rgb(36,36,36)\"},\"yaxis\":{\"automargin\":true,\"gridcolor\":\"rgb(232,232,232)\",\"linecolor\":\"rgb(36,36,36)\",\"showgrid\":false,\"showline\":true,\"ticks\":\"outside\",\"title\":{\"standoff\":15},\"zeroline\":false,\"zerolinecolor\":\"rgb(36,36,36)\"}}},\"xaxis\":{\"anchor\":\"y\",\"domain\":[0.0,1.0],\"title\":{\"text\":\"index\"}},\"yaxis\":{\"anchor\":\"x\",\"domain\":[0.0,1.0],\"title\":{\"text\":\"value\"}},\"coloraxis\":{\"colorbar\":{\"title\":{\"text\":\"color\"}},\"colorscale\":[[0.0,\"rgb(255,247,243)\"],[0.125,\"rgb(253,224,221)\"],[0.25,\"rgb(252,197,192)\"],[0.375,\"rgb(250,159,181)\"],[0.5,\"rgb(247,104,161)\"],[0.625,\"rgb(221,52,151)\"],[0.75,\"rgb(174,1,126)\"],[0.875,\"rgb(122,1,119)\"],[1.0,\"rgb(73,0,106)\"]]},\"legend\":{\"tracegroupgap\":0},\"margin\":{\"t\":60},\"barmode\":\"relative\",\"title\":{\"text\":\"Top 15 words for neutral\"},\"hovermode\":\"x unified\"},                        {\"responsive\": true}                    ).then(function(){\n",
       "                            \n",
       "var gd = document.getElementById('3638814c-3430-4bf8-8cac-26f31871f63e');\n",
       "var x = new MutationObserver(function (mutations, observer) {{\n",
       "        var display = window.getComputedStyle(gd).display;\n",
       "        if (!display || display === 'none') {{\n",
       "            console.log([gd, 'removed!']);\n",
       "            Plotly.purge(gd);\n",
       "            observer.disconnect();\n",
       "        }}\n",
       "}});\n",
       "\n",
       "// Listen for the removal of the full notebook cells\n",
       "var notebookContainer = gd.closest('#notebook-container');\n",
       "if (notebookContainer) {{\n",
       "    x.observe(notebookContainer, {childList: true});\n",
       "}}\n",
       "\n",
       "// Listen for the clearing of the current output cell\n",
       "var outputEl = gd.closest('.output');\n",
       "if (outputEl) {{\n",
       "    x.observe(outputEl, {childList: true});\n",
       "}}\n",
       "\n",
       "                        })                };                });            </script>        </div>"
      ]
     },
     "metadata": {},
     "output_type": "display_data"
    },
    {
     "data": {
      "text/html": [
       "<div>                            <div id=\"2ca3dd5f-c0c2-4da7-82e9-b98e65719062\" class=\"plotly-graph-div\" style=\"height:525px; width:100%;\"></div>            <script type=\"text/javascript\">                require([\"plotly\"], function(Plotly) {                    window.PLOTLYENV=window.PLOTLYENV || {};                                    if (document.getElementById(\"2ca3dd5f-c0c2-4da7-82e9-b98e65719062\")) {                    Plotly.newPlot(                        \"2ca3dd5f-c0c2-4da7-82e9-b98e65719062\",                        [{\"alignmentgroup\":\"True\",\"customdata\":[[726],[637],[612],[470],[464],[461],[455],[416],[384],[325],[321],[320],[318],[307],[303]],\"hovertemplate\":\"<b>Count: </b>%{customdata[0]}\",\"legendgroup\":\"\",\"marker\":{\"color\":\"red\",\"coloraxis\":\"coloraxis\",\"pattern\":{\"shape\":\"\"}},\"name\":\"\",\"offsetgroup\":\"\",\"orientation\":\"v\",\"showlegend\":false,\"textposition\":\"auto\",\"x\":[\"go\",\"miss\",\"get\",\"work\",\"dont\",\"cant\",\"feel\",\"sad\",\"day\",\"today\",\"want\",\"realli\",\"got\",\"hate\",\"bad\"],\"xaxis\":\"x\",\"y\":[726,637,612,470,464,461,455,416,384,325,321,320,318,307,303],\"yaxis\":\"y\",\"type\":\"bar\"}],                        {\"template\":{\"data\":{\"barpolar\":[{\"marker\":{\"line\":{\"color\":\"white\",\"width\":0.5},\"pattern\":{\"fillmode\":\"overlay\",\"size\":10,\"solidity\":0.2}},\"type\":\"barpolar\"}],\"bar\":[{\"error_x\":{\"color\":\"rgb(36,36,36)\"},\"error_y\":{\"color\":\"rgb(36,36,36)\"},\"marker\":{\"line\":{\"color\":\"white\",\"width\":0.5},\"pattern\":{\"fillmode\":\"overlay\",\"size\":10,\"solidity\":0.2}},\"type\":\"bar\"}],\"carpet\":[{\"aaxis\":{\"endlinecolor\":\"rgb(36,36,36)\",\"gridcolor\":\"white\",\"linecolor\":\"white\",\"minorgridcolor\":\"white\",\"startlinecolor\":\"rgb(36,36,36)\"},\"baxis\":{\"endlinecolor\":\"rgb(36,36,36)\",\"gridcolor\":\"white\",\"linecolor\":\"white\",\"minorgridcolor\":\"white\",\"startlinecolor\":\"rgb(36,36,36)\"},\"type\":\"carpet\"}],\"choropleth\":[{\"colorbar\":{\"outlinewidth\":1,\"tickcolor\":\"rgb(36,36,36)\",\"ticks\":\"outside\"},\"type\":\"choropleth\"}],\"contourcarpet\":[{\"colorbar\":{\"outlinewidth\":1,\"tickcolor\":\"rgb(36,36,36)\",\"ticks\":\"outside\"},\"type\":\"contourcarpet\"}],\"contour\":[{\"colorbar\":{\"outlinewidth\":1,\"tickcolor\":\"rgb(36,36,36)\",\"ticks\":\"outside\"},\"colorscale\":[[0.0,\"#440154\"],[0.1111111111111111,\"#482878\"],[0.2222222222222222,\"#3e4989\"],[0.3333333333333333,\"#31688e\"],[0.4444444444444444,\"#26828e\"],[0.5555555555555556,\"#1f9e89\"],[0.6666666666666666,\"#35b779\"],[0.7777777777777778,\"#6ece58\"],[0.8888888888888888,\"#b5de2b\"],[1.0,\"#fde725\"]],\"type\":\"contour\"}],\"heatmapgl\":[{\"colorbar\":{\"outlinewidth\":1,\"tickcolor\":\"rgb(36,36,36)\",\"ticks\":\"outside\"},\"colorscale\":[[0.0,\"#440154\"],[0.1111111111111111,\"#482878\"],[0.2222222222222222,\"#3e4989\"],[0.3333333333333333,\"#31688e\"],[0.4444444444444444,\"#26828e\"],[0.5555555555555556,\"#1f9e89\"],[0.6666666666666666,\"#35b779\"],[0.7777777777777778,\"#6ece58\"],[0.8888888888888888,\"#b5de2b\"],[1.0,\"#fde725\"]],\"type\":\"heatmapgl\"}],\"heatmap\":[{\"colorbar\":{\"outlinewidth\":1,\"tickcolor\":\"rgb(36,36,36)\",\"ticks\":\"outside\"},\"colorscale\":[[0.0,\"#440154\"],[0.1111111111111111,\"#482878\"],[0.2222222222222222,\"#3e4989\"],[0.3333333333333333,\"#31688e\"],[0.4444444444444444,\"#26828e\"],[0.5555555555555556,\"#1f9e89\"],[0.6666666666666666,\"#35b779\"],[0.7777777777777778,\"#6ece58\"],[0.8888888888888888,\"#b5de2b\"],[1.0,\"#fde725\"]],\"type\":\"heatmap\"}],\"histogram2dcontour\":[{\"colorbar\":{\"outlinewidth\":1,\"tickcolor\":\"rgb(36,36,36)\",\"ticks\":\"outside\"},\"colorscale\":[[0.0,\"#440154\"],[0.1111111111111111,\"#482878\"],[0.2222222222222222,\"#3e4989\"],[0.3333333333333333,\"#31688e\"],[0.4444444444444444,\"#26828e\"],[0.5555555555555556,\"#1f9e89\"],[0.6666666666666666,\"#35b779\"],[0.7777777777777778,\"#6ece58\"],[0.8888888888888888,\"#b5de2b\"],[1.0,\"#fde725\"]],\"type\":\"histogram2dcontour\"}],\"histogram2d\":[{\"colorbar\":{\"outlinewidth\":1,\"tickcolor\":\"rgb(36,36,36)\",\"ticks\":\"outside\"},\"colorscale\":[[0.0,\"#440154\"],[0.1111111111111111,\"#482878\"],[0.2222222222222222,\"#3e4989\"],[0.3333333333333333,\"#31688e\"],[0.4444444444444444,\"#26828e\"],[0.5555555555555556,\"#1f9e89\"],[0.6666666666666666,\"#35b779\"],[0.7777777777777778,\"#6ece58\"],[0.8888888888888888,\"#b5de2b\"],[1.0,\"#fde725\"]],\"type\":\"histogram2d\"}],\"histogram\":[{\"marker\":{\"line\":{\"color\":\"white\",\"width\":0.6}},\"type\":\"histogram\"}],\"mesh3d\":[{\"colorbar\":{\"outlinewidth\":1,\"tickcolor\":\"rgb(36,36,36)\",\"ticks\":\"outside\"},\"type\":\"mesh3d\"}],\"parcoords\":[{\"line\":{\"colorbar\":{\"outlinewidth\":1,\"tickcolor\":\"rgb(36,36,36)\",\"ticks\":\"outside\"}},\"type\":\"parcoords\"}],\"pie\":[{\"automargin\":true,\"type\":\"pie\"}],\"scatter3d\":[{\"line\":{\"colorbar\":{\"outlinewidth\":1,\"tickcolor\":\"rgb(36,36,36)\",\"ticks\":\"outside\"}},\"marker\":{\"colorbar\":{\"outlinewidth\":1,\"tickcolor\":\"rgb(36,36,36)\",\"ticks\":\"outside\"}},\"type\":\"scatter3d\"}],\"scattercarpet\":[{\"marker\":{\"colorbar\":{\"outlinewidth\":1,\"tickcolor\":\"rgb(36,36,36)\",\"ticks\":\"outside\"}},\"type\":\"scattercarpet\"}],\"scattergeo\":[{\"marker\":{\"colorbar\":{\"outlinewidth\":1,\"tickcolor\":\"rgb(36,36,36)\",\"ticks\":\"outside\"}},\"type\":\"scattergeo\"}],\"scattergl\":[{\"marker\":{\"colorbar\":{\"outlinewidth\":1,\"tickcolor\":\"rgb(36,36,36)\",\"ticks\":\"outside\"}},\"type\":\"scattergl\"}],\"scattermapbox\":[{\"marker\":{\"colorbar\":{\"outlinewidth\":1,\"tickcolor\":\"rgb(36,36,36)\",\"ticks\":\"outside\"}},\"type\":\"scattermapbox\"}],\"scatterpolargl\":[{\"marker\":{\"colorbar\":{\"outlinewidth\":1,\"tickcolor\":\"rgb(36,36,36)\",\"ticks\":\"outside\"}},\"type\":\"scatterpolargl\"}],\"scatterpolar\":[{\"marker\":{\"colorbar\":{\"outlinewidth\":1,\"tickcolor\":\"rgb(36,36,36)\",\"ticks\":\"outside\"}},\"type\":\"scatterpolar\"}],\"scatter\":[{\"fillpattern\":{\"fillmode\":\"overlay\",\"size\":10,\"solidity\":0.2},\"type\":\"scatter\"}],\"scatterternary\":[{\"marker\":{\"colorbar\":{\"outlinewidth\":1,\"tickcolor\":\"rgb(36,36,36)\",\"ticks\":\"outside\"}},\"type\":\"scatterternary\"}],\"surface\":[{\"colorbar\":{\"outlinewidth\":1,\"tickcolor\":\"rgb(36,36,36)\",\"ticks\":\"outside\"},\"colorscale\":[[0.0,\"#440154\"],[0.1111111111111111,\"#482878\"],[0.2222222222222222,\"#3e4989\"],[0.3333333333333333,\"#31688e\"],[0.4444444444444444,\"#26828e\"],[0.5555555555555556,\"#1f9e89\"],[0.6666666666666666,\"#35b779\"],[0.7777777777777778,\"#6ece58\"],[0.8888888888888888,\"#b5de2b\"],[1.0,\"#fde725\"]],\"type\":\"surface\"}],\"table\":[{\"cells\":{\"fill\":{\"color\":\"rgb(237,237,237)\"},\"line\":{\"color\":\"white\"}},\"header\":{\"fill\":{\"color\":\"rgb(217,217,217)\"},\"line\":{\"color\":\"white\"}},\"type\":\"table\"}]},\"layout\":{\"annotationdefaults\":{\"arrowhead\":0,\"arrowwidth\":1},\"autotypenumbers\":\"strict\",\"coloraxis\":{\"colorbar\":{\"outlinewidth\":1,\"tickcolor\":\"rgb(36,36,36)\",\"ticks\":\"outside\"}},\"colorscale\":{\"diverging\":[[0.0,\"rgb(103,0,31)\"],[0.1,\"rgb(178,24,43)\"],[0.2,\"rgb(214,96,77)\"],[0.3,\"rgb(244,165,130)\"],[0.4,\"rgb(253,219,199)\"],[0.5,\"rgb(247,247,247)\"],[0.6,\"rgb(209,229,240)\"],[0.7,\"rgb(146,197,222)\"],[0.8,\"rgb(67,147,195)\"],[0.9,\"rgb(33,102,172)\"],[1.0,\"rgb(5,48,97)\"]],\"sequential\":[[0.0,\"#440154\"],[0.1111111111111111,\"#482878\"],[0.2222222222222222,\"#3e4989\"],[0.3333333333333333,\"#31688e\"],[0.4444444444444444,\"#26828e\"],[0.5555555555555556,\"#1f9e89\"],[0.6666666666666666,\"#35b779\"],[0.7777777777777778,\"#6ece58\"],[0.8888888888888888,\"#b5de2b\"],[1.0,\"#fde725\"]],\"sequentialminus\":[[0.0,\"#440154\"],[0.1111111111111111,\"#482878\"],[0.2222222222222222,\"#3e4989\"],[0.3333333333333333,\"#31688e\"],[0.4444444444444444,\"#26828e\"],[0.5555555555555556,\"#1f9e89\"],[0.6666666666666666,\"#35b779\"],[0.7777777777777778,\"#6ece58\"],[0.8888888888888888,\"#b5de2b\"],[1.0,\"#fde725\"]]},\"colorway\":[\"#1F77B4\",\"#FF7F0E\",\"#2CA02C\",\"#D62728\",\"#9467BD\",\"#8C564B\",\"#E377C2\",\"#7F7F7F\",\"#BCBD22\",\"#17BECF\"],\"font\":{\"color\":\"rgb(36,36,36)\"},\"geo\":{\"bgcolor\":\"white\",\"lakecolor\":\"white\",\"landcolor\":\"white\",\"showlakes\":true,\"showland\":true,\"subunitcolor\":\"white\"},\"hoverlabel\":{\"align\":\"left\"},\"hovermode\":\"closest\",\"mapbox\":{\"style\":\"light\"},\"paper_bgcolor\":\"white\",\"plot_bgcolor\":\"white\",\"polar\":{\"angularaxis\":{\"gridcolor\":\"rgb(232,232,232)\",\"linecolor\":\"rgb(36,36,36)\",\"showgrid\":false,\"showline\":true,\"ticks\":\"outside\"},\"bgcolor\":\"white\",\"radialaxis\":{\"gridcolor\":\"rgb(232,232,232)\",\"linecolor\":\"rgb(36,36,36)\",\"showgrid\":false,\"showline\":true,\"ticks\":\"outside\"}},\"scene\":{\"xaxis\":{\"backgroundcolor\":\"white\",\"gridcolor\":\"rgb(232,232,232)\",\"gridwidth\":2,\"linecolor\":\"rgb(36,36,36)\",\"showbackground\":true,\"showgrid\":false,\"showline\":true,\"ticks\":\"outside\",\"zeroline\":false,\"zerolinecolor\":\"rgb(36,36,36)\"},\"yaxis\":{\"backgroundcolor\":\"white\",\"gridcolor\":\"rgb(232,232,232)\",\"gridwidth\":2,\"linecolor\":\"rgb(36,36,36)\",\"showbackground\":true,\"showgrid\":false,\"showline\":true,\"ticks\":\"outside\",\"zeroline\":false,\"zerolinecolor\":\"rgb(36,36,36)\"},\"zaxis\":{\"backgroundcolor\":\"white\",\"gridcolor\":\"rgb(232,232,232)\",\"gridwidth\":2,\"linecolor\":\"rgb(36,36,36)\",\"showbackground\":true,\"showgrid\":false,\"showline\":true,\"ticks\":\"outside\",\"zeroline\":false,\"zerolinecolor\":\"rgb(36,36,36)\"}},\"shapedefaults\":{\"fillcolor\":\"black\",\"line\":{\"width\":0},\"opacity\":0.3},\"ternary\":{\"aaxis\":{\"gridcolor\":\"rgb(232,232,232)\",\"linecolor\":\"rgb(36,36,36)\",\"showgrid\":false,\"showline\":true,\"ticks\":\"outside\"},\"baxis\":{\"gridcolor\":\"rgb(232,232,232)\",\"linecolor\":\"rgb(36,36,36)\",\"showgrid\":false,\"showline\":true,\"ticks\":\"outside\"},\"bgcolor\":\"white\",\"caxis\":{\"gridcolor\":\"rgb(232,232,232)\",\"linecolor\":\"rgb(36,36,36)\",\"showgrid\":false,\"showline\":true,\"ticks\":\"outside\"}},\"title\":{\"x\":0.05},\"xaxis\":{\"automargin\":true,\"gridcolor\":\"rgb(232,232,232)\",\"linecolor\":\"rgb(36,36,36)\",\"showgrid\":false,\"showline\":true,\"ticks\":\"outside\",\"title\":{\"standoff\":15},\"zeroline\":false,\"zerolinecolor\":\"rgb(36,36,36)\"},\"yaxis\":{\"automargin\":true,\"gridcolor\":\"rgb(232,232,232)\",\"linecolor\":\"rgb(36,36,36)\",\"showgrid\":false,\"showline\":true,\"ticks\":\"outside\",\"title\":{\"standoff\":15},\"zeroline\":false,\"zerolinecolor\":\"rgb(36,36,36)\"}}},\"xaxis\":{\"anchor\":\"y\",\"domain\":[0.0,1.0],\"title\":{\"text\":\"index\"}},\"yaxis\":{\"anchor\":\"x\",\"domain\":[0.0,1.0],\"title\":{\"text\":\"value\"}},\"coloraxis\":{\"colorbar\":{\"title\":{\"text\":\"color\"}},\"colorscale\":[[0.0,\"rgb(255,247,243)\"],[0.125,\"rgb(253,224,221)\"],[0.25,\"rgb(252,197,192)\"],[0.375,\"rgb(250,159,181)\"],[0.5,\"rgb(247,104,161)\"],[0.625,\"rgb(221,52,151)\"],[0.75,\"rgb(174,1,126)\"],[0.875,\"rgb(122,1,119)\"],[1.0,\"rgb(73,0,106)\"]]},\"legend\":{\"tracegroupgap\":0},\"margin\":{\"t\":60},\"barmode\":\"relative\",\"title\":{\"text\":\"Top 15 words for negative\"},\"hovermode\":\"x unified\"},                        {\"responsive\": true}                    ).then(function(){\n",
       "                            \n",
       "var gd = document.getElementById('2ca3dd5f-c0c2-4da7-82e9-b98e65719062');\n",
       "var x = new MutationObserver(function (mutations, observer) {{\n",
       "        var display = window.getComputedStyle(gd).display;\n",
       "        if (!display || display === 'none') {{\n",
       "            console.log([gd, 'removed!']);\n",
       "            Plotly.purge(gd);\n",
       "            observer.disconnect();\n",
       "        }}\n",
       "}});\n",
       "\n",
       "// Listen for the removal of the full notebook cells\n",
       "var notebookContainer = gd.closest('#notebook-container');\n",
       "if (notebookContainer) {{\n",
       "    x.observe(notebookContainer, {childList: true});\n",
       "}}\n",
       "\n",
       "// Listen for the clearing of the current output cell\n",
       "var outputEl = gd.closest('.output');\n",
       "if (outputEl) {{\n",
       "    x.observe(outputEl, {childList: true});\n",
       "}}\n",
       "\n",
       "                        })                };                });            </script>        </div>"
      ]
     },
     "metadata": {},
     "output_type": "display_data"
    },
    {
     "data": {
      "text/html": [
       "<div>                            <div id=\"62d6c942-f890-4235-be73-e3e151cd68e3\" class=\"plotly-graph-div\" style=\"height:525px; width:100%;\"></div>            <script type=\"text/javascript\">                require([\"plotly\"], function(Plotly) {                    window.PLOTLYENV=window.PLOTLYENV || {};                                    if (document.getElementById(\"62d6c942-f890-4235-be73-e3e151cd68e3\")) {                    Plotly.newPlot(                        \"62d6c942-f890-4235-be73-e3e151cd68e3\",                        [{\"alignmentgroup\":\"True\",\"customdata\":[[1196],[1110],[1030],[709],[638],[566],[563],[510],[475],[473],[346],[343],[335],[334],[327]],\"hovertemplate\":\"<b>Count: </b>%{customdata[0]}\",\"legendgroup\":\"\",\"marker\":{\"color\":\"red\",\"coloraxis\":\"coloraxis\",\"pattern\":{\"shape\":\"\"}},\"name\":\"\",\"offsetgroup\":\"\",\"orientation\":\"v\",\"showlegend\":false,\"textposition\":\"auto\",\"x\":[\"day\",\"love\",\"good\",\"happi\",\"thank\",\"go\",\"mother\",\"hope\",\"get\",\"great\",\"today\",\"fun\",\"nice\",\"lol\",\"work\"],\"xaxis\":\"x\",\"y\":[1196,1110,1030,709,638,566,563,510,475,473,346,343,335,334,327],\"yaxis\":\"y\",\"type\":\"bar\"}],                        {\"template\":{\"data\":{\"barpolar\":[{\"marker\":{\"line\":{\"color\":\"white\",\"width\":0.5},\"pattern\":{\"fillmode\":\"overlay\",\"size\":10,\"solidity\":0.2}},\"type\":\"barpolar\"}],\"bar\":[{\"error_x\":{\"color\":\"rgb(36,36,36)\"},\"error_y\":{\"color\":\"rgb(36,36,36)\"},\"marker\":{\"line\":{\"color\":\"white\",\"width\":0.5},\"pattern\":{\"fillmode\":\"overlay\",\"size\":10,\"solidity\":0.2}},\"type\":\"bar\"}],\"carpet\":[{\"aaxis\":{\"endlinecolor\":\"rgb(36,36,36)\",\"gridcolor\":\"white\",\"linecolor\":\"white\",\"minorgridcolor\":\"white\",\"startlinecolor\":\"rgb(36,36,36)\"},\"baxis\":{\"endlinecolor\":\"rgb(36,36,36)\",\"gridcolor\":\"white\",\"linecolor\":\"white\",\"minorgridcolor\":\"white\",\"startlinecolor\":\"rgb(36,36,36)\"},\"type\":\"carpet\"}],\"choropleth\":[{\"colorbar\":{\"outlinewidth\":1,\"tickcolor\":\"rgb(36,36,36)\",\"ticks\":\"outside\"},\"type\":\"choropleth\"}],\"contourcarpet\":[{\"colorbar\":{\"outlinewidth\":1,\"tickcolor\":\"rgb(36,36,36)\",\"ticks\":\"outside\"},\"type\":\"contourcarpet\"}],\"contour\":[{\"colorbar\":{\"outlinewidth\":1,\"tickcolor\":\"rgb(36,36,36)\",\"ticks\":\"outside\"},\"colorscale\":[[0.0,\"#440154\"],[0.1111111111111111,\"#482878\"],[0.2222222222222222,\"#3e4989\"],[0.3333333333333333,\"#31688e\"],[0.4444444444444444,\"#26828e\"],[0.5555555555555556,\"#1f9e89\"],[0.6666666666666666,\"#35b779\"],[0.7777777777777778,\"#6ece58\"],[0.8888888888888888,\"#b5de2b\"],[1.0,\"#fde725\"]],\"type\":\"contour\"}],\"heatmapgl\":[{\"colorbar\":{\"outlinewidth\":1,\"tickcolor\":\"rgb(36,36,36)\",\"ticks\":\"outside\"},\"colorscale\":[[0.0,\"#440154\"],[0.1111111111111111,\"#482878\"],[0.2222222222222222,\"#3e4989\"],[0.3333333333333333,\"#31688e\"],[0.4444444444444444,\"#26828e\"],[0.5555555555555556,\"#1f9e89\"],[0.6666666666666666,\"#35b779\"],[0.7777777777777778,\"#6ece58\"],[0.8888888888888888,\"#b5de2b\"],[1.0,\"#fde725\"]],\"type\":\"heatmapgl\"}],\"heatmap\":[{\"colorbar\":{\"outlinewidth\":1,\"tickcolor\":\"rgb(36,36,36)\",\"ticks\":\"outside\"},\"colorscale\":[[0.0,\"#440154\"],[0.1111111111111111,\"#482878\"],[0.2222222222222222,\"#3e4989\"],[0.3333333333333333,\"#31688e\"],[0.4444444444444444,\"#26828e\"],[0.5555555555555556,\"#1f9e89\"],[0.6666666666666666,\"#35b779\"],[0.7777777777777778,\"#6ece58\"],[0.8888888888888888,\"#b5de2b\"],[1.0,\"#fde725\"]],\"type\":\"heatmap\"}],\"histogram2dcontour\":[{\"colorbar\":{\"outlinewidth\":1,\"tickcolor\":\"rgb(36,36,36)\",\"ticks\":\"outside\"},\"colorscale\":[[0.0,\"#440154\"],[0.1111111111111111,\"#482878\"],[0.2222222222222222,\"#3e4989\"],[0.3333333333333333,\"#31688e\"],[0.4444444444444444,\"#26828e\"],[0.5555555555555556,\"#1f9e89\"],[0.6666666666666666,\"#35b779\"],[0.7777777777777778,\"#6ece58\"],[0.8888888888888888,\"#b5de2b\"],[1.0,\"#fde725\"]],\"type\":\"histogram2dcontour\"}],\"histogram2d\":[{\"colorbar\":{\"outlinewidth\":1,\"tickcolor\":\"rgb(36,36,36)\",\"ticks\":\"outside\"},\"colorscale\":[[0.0,\"#440154\"],[0.1111111111111111,\"#482878\"],[0.2222222222222222,\"#3e4989\"],[0.3333333333333333,\"#31688e\"],[0.4444444444444444,\"#26828e\"],[0.5555555555555556,\"#1f9e89\"],[0.6666666666666666,\"#35b779\"],[0.7777777777777778,\"#6ece58\"],[0.8888888888888888,\"#b5de2b\"],[1.0,\"#fde725\"]],\"type\":\"histogram2d\"}],\"histogram\":[{\"marker\":{\"line\":{\"color\":\"white\",\"width\":0.6}},\"type\":\"histogram\"}],\"mesh3d\":[{\"colorbar\":{\"outlinewidth\":1,\"tickcolor\":\"rgb(36,36,36)\",\"ticks\":\"outside\"},\"type\":\"mesh3d\"}],\"parcoords\":[{\"line\":{\"colorbar\":{\"outlinewidth\":1,\"tickcolor\":\"rgb(36,36,36)\",\"ticks\":\"outside\"}},\"type\":\"parcoords\"}],\"pie\":[{\"automargin\":true,\"type\":\"pie\"}],\"scatter3d\":[{\"line\":{\"colorbar\":{\"outlinewidth\":1,\"tickcolor\":\"rgb(36,36,36)\",\"ticks\":\"outside\"}},\"marker\":{\"colorbar\":{\"outlinewidth\":1,\"tickcolor\":\"rgb(36,36,36)\",\"ticks\":\"outside\"}},\"type\":\"scatter3d\"}],\"scattercarpet\":[{\"marker\":{\"colorbar\":{\"outlinewidth\":1,\"tickcolor\":\"rgb(36,36,36)\",\"ticks\":\"outside\"}},\"type\":\"scattercarpet\"}],\"scattergeo\":[{\"marker\":{\"colorbar\":{\"outlinewidth\":1,\"tickcolor\":\"rgb(36,36,36)\",\"ticks\":\"outside\"}},\"type\":\"scattergeo\"}],\"scattergl\":[{\"marker\":{\"colorbar\":{\"outlinewidth\":1,\"tickcolor\":\"rgb(36,36,36)\",\"ticks\":\"outside\"}},\"type\":\"scattergl\"}],\"scattermapbox\":[{\"marker\":{\"colorbar\":{\"outlinewidth\":1,\"tickcolor\":\"rgb(36,36,36)\",\"ticks\":\"outside\"}},\"type\":\"scattermapbox\"}],\"scatterpolargl\":[{\"marker\":{\"colorbar\":{\"outlinewidth\":1,\"tickcolor\":\"rgb(36,36,36)\",\"ticks\":\"outside\"}},\"type\":\"scatterpolargl\"}],\"scatterpolar\":[{\"marker\":{\"colorbar\":{\"outlinewidth\":1,\"tickcolor\":\"rgb(36,36,36)\",\"ticks\":\"outside\"}},\"type\":\"scatterpolar\"}],\"scatter\":[{\"fillpattern\":{\"fillmode\":\"overlay\",\"size\":10,\"solidity\":0.2},\"type\":\"scatter\"}],\"scatterternary\":[{\"marker\":{\"colorbar\":{\"outlinewidth\":1,\"tickcolor\":\"rgb(36,36,36)\",\"ticks\":\"outside\"}},\"type\":\"scatterternary\"}],\"surface\":[{\"colorbar\":{\"outlinewidth\":1,\"tickcolor\":\"rgb(36,36,36)\",\"ticks\":\"outside\"},\"colorscale\":[[0.0,\"#440154\"],[0.1111111111111111,\"#482878\"],[0.2222222222222222,\"#3e4989\"],[0.3333333333333333,\"#31688e\"],[0.4444444444444444,\"#26828e\"],[0.5555555555555556,\"#1f9e89\"],[0.6666666666666666,\"#35b779\"],[0.7777777777777778,\"#6ece58\"],[0.8888888888888888,\"#b5de2b\"],[1.0,\"#fde725\"]],\"type\":\"surface\"}],\"table\":[{\"cells\":{\"fill\":{\"color\":\"rgb(237,237,237)\"},\"line\":{\"color\":\"white\"}},\"header\":{\"fill\":{\"color\":\"rgb(217,217,217)\"},\"line\":{\"color\":\"white\"}},\"type\":\"table\"}]},\"layout\":{\"annotationdefaults\":{\"arrowhead\":0,\"arrowwidth\":1},\"autotypenumbers\":\"strict\",\"coloraxis\":{\"colorbar\":{\"outlinewidth\":1,\"tickcolor\":\"rgb(36,36,36)\",\"ticks\":\"outside\"}},\"colorscale\":{\"diverging\":[[0.0,\"rgb(103,0,31)\"],[0.1,\"rgb(178,24,43)\"],[0.2,\"rgb(214,96,77)\"],[0.3,\"rgb(244,165,130)\"],[0.4,\"rgb(253,219,199)\"],[0.5,\"rgb(247,247,247)\"],[0.6,\"rgb(209,229,240)\"],[0.7,\"rgb(146,197,222)\"],[0.8,\"rgb(67,147,195)\"],[0.9,\"rgb(33,102,172)\"],[1.0,\"rgb(5,48,97)\"]],\"sequential\":[[0.0,\"#440154\"],[0.1111111111111111,\"#482878\"],[0.2222222222222222,\"#3e4989\"],[0.3333333333333333,\"#31688e\"],[0.4444444444444444,\"#26828e\"],[0.5555555555555556,\"#1f9e89\"],[0.6666666666666666,\"#35b779\"],[0.7777777777777778,\"#6ece58\"],[0.8888888888888888,\"#b5de2b\"],[1.0,\"#fde725\"]],\"sequentialminus\":[[0.0,\"#440154\"],[0.1111111111111111,\"#482878\"],[0.2222222222222222,\"#3e4989\"],[0.3333333333333333,\"#31688e\"],[0.4444444444444444,\"#26828e\"],[0.5555555555555556,\"#1f9e89\"],[0.6666666666666666,\"#35b779\"],[0.7777777777777778,\"#6ece58\"],[0.8888888888888888,\"#b5de2b\"],[1.0,\"#fde725\"]]},\"colorway\":[\"#1F77B4\",\"#FF7F0E\",\"#2CA02C\",\"#D62728\",\"#9467BD\",\"#8C564B\",\"#E377C2\",\"#7F7F7F\",\"#BCBD22\",\"#17BECF\"],\"font\":{\"color\":\"rgb(36,36,36)\"},\"geo\":{\"bgcolor\":\"white\",\"lakecolor\":\"white\",\"landcolor\":\"white\",\"showlakes\":true,\"showland\":true,\"subunitcolor\":\"white\"},\"hoverlabel\":{\"align\":\"left\"},\"hovermode\":\"closest\",\"mapbox\":{\"style\":\"light\"},\"paper_bgcolor\":\"white\",\"plot_bgcolor\":\"white\",\"polar\":{\"angularaxis\":{\"gridcolor\":\"rgb(232,232,232)\",\"linecolor\":\"rgb(36,36,36)\",\"showgrid\":false,\"showline\":true,\"ticks\":\"outside\"},\"bgcolor\":\"white\",\"radialaxis\":{\"gridcolor\":\"rgb(232,232,232)\",\"linecolor\":\"rgb(36,36,36)\",\"showgrid\":false,\"showline\":true,\"ticks\":\"outside\"}},\"scene\":{\"xaxis\":{\"backgroundcolor\":\"white\",\"gridcolor\":\"rgb(232,232,232)\",\"gridwidth\":2,\"linecolor\":\"rgb(36,36,36)\",\"showbackground\":true,\"showgrid\":false,\"showline\":true,\"ticks\":\"outside\",\"zeroline\":false,\"zerolinecolor\":\"rgb(36,36,36)\"},\"yaxis\":{\"backgroundcolor\":\"white\",\"gridcolor\":\"rgb(232,232,232)\",\"gridwidth\":2,\"linecolor\":\"rgb(36,36,36)\",\"showbackground\":true,\"showgrid\":false,\"showline\":true,\"ticks\":\"outside\",\"zeroline\":false,\"zerolinecolor\":\"rgb(36,36,36)\"},\"zaxis\":{\"backgroundcolor\":\"white\",\"gridcolor\":\"rgb(232,232,232)\",\"gridwidth\":2,\"linecolor\":\"rgb(36,36,36)\",\"showbackground\":true,\"showgrid\":false,\"showline\":true,\"ticks\":\"outside\",\"zeroline\":false,\"zerolinecolor\":\"rgb(36,36,36)\"}},\"shapedefaults\":{\"fillcolor\":\"black\",\"line\":{\"width\":0},\"opacity\":0.3},\"ternary\":{\"aaxis\":{\"gridcolor\":\"rgb(232,232,232)\",\"linecolor\":\"rgb(36,36,36)\",\"showgrid\":false,\"showline\":true,\"ticks\":\"outside\"},\"baxis\":{\"gridcolor\":\"rgb(232,232,232)\",\"linecolor\":\"rgb(36,36,36)\",\"showgrid\":false,\"showline\":true,\"ticks\":\"outside\"},\"bgcolor\":\"white\",\"caxis\":{\"gridcolor\":\"rgb(232,232,232)\",\"linecolor\":\"rgb(36,36,36)\",\"showgrid\":false,\"showline\":true,\"ticks\":\"outside\"}},\"title\":{\"x\":0.05},\"xaxis\":{\"automargin\":true,\"gridcolor\":\"rgb(232,232,232)\",\"linecolor\":\"rgb(36,36,36)\",\"showgrid\":false,\"showline\":true,\"ticks\":\"outside\",\"title\":{\"standoff\":15},\"zeroline\":false,\"zerolinecolor\":\"rgb(36,36,36)\"},\"yaxis\":{\"automargin\":true,\"gridcolor\":\"rgb(232,232,232)\",\"linecolor\":\"rgb(36,36,36)\",\"showgrid\":false,\"showline\":true,\"ticks\":\"outside\",\"title\":{\"standoff\":15},\"zeroline\":false,\"zerolinecolor\":\"rgb(36,36,36)\"}}},\"xaxis\":{\"anchor\":\"y\",\"domain\":[0.0,1.0],\"title\":{\"text\":\"index\"}},\"yaxis\":{\"anchor\":\"x\",\"domain\":[0.0,1.0],\"title\":{\"text\":\"value\"}},\"coloraxis\":{\"colorbar\":{\"title\":{\"text\":\"color\"}},\"colorscale\":[[0.0,\"rgb(255,247,243)\"],[0.125,\"rgb(253,224,221)\"],[0.25,\"rgb(252,197,192)\"],[0.375,\"rgb(250,159,181)\"],[0.5,\"rgb(247,104,161)\"],[0.625,\"rgb(221,52,151)\"],[0.75,\"rgb(174,1,126)\"],[0.875,\"rgb(122,1,119)\"],[1.0,\"rgb(73,0,106)\"]]},\"legend\":{\"tracegroupgap\":0},\"margin\":{\"t\":60},\"barmode\":\"relative\",\"title\":{\"text\":\"Top 15 words for positive\"},\"hovermode\":\"x unified\"},                        {\"responsive\": true}                    ).then(function(){\n",
       "                            \n",
       "var gd = document.getElementById('62d6c942-f890-4235-be73-e3e151cd68e3');\n",
       "var x = new MutationObserver(function (mutations, observer) {{\n",
       "        var display = window.getComputedStyle(gd).display;\n",
       "        if (!display || display === 'none') {{\n",
       "            console.log([gd, 'removed!']);\n",
       "            Plotly.purge(gd);\n",
       "            observer.disconnect();\n",
       "        }}\n",
       "}});\n",
       "\n",
       "// Listen for the removal of the full notebook cells\n",
       "var notebookContainer = gd.closest('#notebook-container');\n",
       "if (notebookContainer) {{\n",
       "    x.observe(notebookContainer, {childList: true});\n",
       "}}\n",
       "\n",
       "// Listen for the clearing of the current output cell\n",
       "var outputEl = gd.closest('.output');\n",
       "if (outputEl) {{\n",
       "    x.observe(outputEl, {childList: true});\n",
       "}}\n",
       "\n",
       "                        })                };                });            </script>        </div>"
      ]
     },
     "metadata": {},
     "output_type": "display_data"
    }
   ],
   "source": [
    "# Plotting the top 15 words of each sentiment type\n",
    "for sent in df.sentiment.unique():\n",
    "    \n",
    "    top15_word = df.cleaned_text[df.sentiment==sent].str.split(expand=True).stack().value_counts()[:15]\n",
    "    \n",
    "    fig = px.bar(top15_word, color=top15_word.values, color_continuous_scale=px.colors.sequential.RdPu, custom_data=[top15_word.values])\n",
    "    fig.update_traces(marker_color='red')\n",
    "    fig.update_traces(hovertemplate='<b>Count: </b>%{customdata[0]}')\n",
    "    fig.update_layout(title=f\"Top 15 words for {sent}\",\n",
    "                     template='simple_white',\n",
    "                     hovermode='x unified')\n",
    "    fig.show()"
   ]
  },
  {
   "cell_type": "code",
   "execution_count": 23,
   "id": "1e53b446",
   "metadata": {
    "execution": {
     "iopub.execute_input": "2022-05-14T16:43:07.079685Z",
     "iopub.status.busy": "2022-05-14T16:43:07.079384Z",
     "iopub.status.idle": "2022-05-14T16:43:07.083682Z",
     "shell.execute_reply": "2022-05-14T16:43:07.082803Z"
    },
    "papermill": {
     "duration": 0.07183,
     "end_time": "2022-05-14T16:43:07.085944",
     "exception": false,
     "start_time": "2022-05-14T16:43:07.014114",
     "status": "completed"
    },
    "tags": []
   },
   "outputs": [],
   "source": [
    "from sklearn.model_selection import train_test_split\n",
    "from sklearn.feature_extraction.text import TfidfVectorizer"
   ]
  },
  {
   "cell_type": "code",
   "execution_count": 24,
   "id": "8eadeeb8",
   "metadata": {
    "execution": {
     "iopub.execute_input": "2022-05-14T16:43:07.215506Z",
     "iopub.status.busy": "2022-05-14T16:43:07.214497Z",
     "iopub.status.idle": "2022-05-14T16:43:07.219046Z",
     "shell.execute_reply": "2022-05-14T16:43:07.218348Z"
    },
    "papermill": {
     "duration": 0.071433,
     "end_time": "2022-05-14T16:43:07.221038",
     "exception": false,
     "start_time": "2022-05-14T16:43:07.149605",
     "status": "completed"
    },
    "tags": []
   },
   "outputs": [],
   "source": [
    "X = df['cleaned_text']  #Feature\n",
    "y = df['sentiment']     #Target Label"
   ]
  },
  {
   "cell_type": "code",
   "execution_count": 25,
   "id": "5dac4634",
   "metadata": {
    "execution": {
     "iopub.execute_input": "2022-05-14T16:43:07.350686Z",
     "iopub.status.busy": "2022-05-14T16:43:07.349839Z",
     "iopub.status.idle": "2022-05-14T16:43:07.358677Z",
     "shell.execute_reply": "2022-05-14T16:43:07.357835Z"
    },
    "papermill": {
     "duration": 0.07551,
     "end_time": "2022-05-14T16:43:07.360947",
     "exception": false,
     "start_time": "2022-05-14T16:43:07.285437",
     "status": "completed"
    },
    "tags": []
   },
   "outputs": [],
   "source": [
    "X_train, X_test, y_train, y_test = train_test_split(X, y, test_size = 0.2, random_state = 42)\n",
    "# Performing the train|test split. This test set is essentially a hold out test set as we'll be performing Cross Validation\n",
    "# using Grid Search which will split our training data into a training and validation split"
   ]
  },
  {
   "cell_type": "code",
   "execution_count": 26,
   "id": "0383593c",
   "metadata": {
    "execution": {
     "iopub.execute_input": "2022-05-14T16:43:07.488525Z",
     "iopub.status.busy": "2022-05-14T16:43:07.487689Z",
     "iopub.status.idle": "2022-05-14T16:43:07.492377Z",
     "shell.execute_reply": "2022-05-14T16:43:07.491372Z"
    },
    "papermill": {
     "duration": 0.070813,
     "end_time": "2022-05-14T16:43:07.494638",
     "exception": false,
     "start_time": "2022-05-14T16:43:07.423825",
     "status": "completed"
    },
    "tags": []
   },
   "outputs": [],
   "source": [
    "tfidf = TfidfVectorizer(max_features = 5000)\n",
    "# Using the TF - IDF Vectorizer to extract top 5000 most important features\n",
    "# from the text data "
   ]
  },
  {
   "cell_type": "code",
   "execution_count": 27,
   "id": "c37000e3",
   "metadata": {
    "execution": {
     "iopub.execute_input": "2022-05-14T16:43:07.623873Z",
     "iopub.status.busy": "2022-05-14T16:43:07.623583Z",
     "iopub.status.idle": "2022-05-14T16:43:08.014371Z",
     "shell.execute_reply": "2022-05-14T16:43:08.013579Z"
    },
    "papermill": {
     "duration": 0.458537,
     "end_time": "2022-05-14T16:43:08.016893",
     "exception": false,
     "start_time": "2022-05-14T16:43:07.558356",
     "status": "completed"
    },
    "tags": []
   },
   "outputs": [],
   "source": [
    "X_train_tfidf = tfidf.fit_transform(X_train)  # Creating the vocabulary only from the training set to avoid data leakage from \n",
    "X_test_tfidf = tfidf.transform(X_test)        # the test set."
   ]
  },
  {
   "cell_type": "code",
   "execution_count": 28,
   "id": "a990fde8",
   "metadata": {
    "execution": {
     "iopub.execute_input": "2022-05-14T16:43:08.143610Z",
     "iopub.status.busy": "2022-05-14T16:43:08.143279Z",
     "iopub.status.idle": "2022-05-14T16:43:08.149900Z",
     "shell.execute_reply": "2022-05-14T16:43:08.148911Z"
    },
    "papermill": {
     "duration": 0.072996,
     "end_time": "2022-05-14T16:43:08.152362",
     "exception": false,
     "start_time": "2022-05-14T16:43:08.079366",
     "status": "completed"
    },
    "tags": []
   },
   "outputs": [
    {
     "data": {
      "text/plain": [
       "<21431x5000 sparse matrix of type '<class 'numpy.float64'>'\n",
       "\twith 129184 stored elements in Compressed Sparse Row format>"
      ]
     },
     "execution_count": 28,
     "metadata": {},
     "output_type": "execute_result"
    }
   ],
   "source": [
    "X_train_tfidf   # Sparse Matrix is created to save memory since many values are close to 0"
   ]
  },
  {
   "cell_type": "code",
   "execution_count": 29,
   "id": "a37b15fc",
   "metadata": {
    "execution": {
     "iopub.execute_input": "2022-05-14T16:43:08.281150Z",
     "iopub.status.busy": "2022-05-14T16:43:08.280643Z",
     "iopub.status.idle": "2022-05-14T16:43:08.287236Z",
     "shell.execute_reply": "2022-05-14T16:43:08.286336Z"
    },
    "papermill": {
     "duration": 0.073746,
     "end_time": "2022-05-14T16:43:08.289373",
     "exception": false,
     "start_time": "2022-05-14T16:43:08.215627",
     "status": "completed"
    },
    "tags": []
   },
   "outputs": [
    {
     "data": {
      "text/plain": [
       "<5358x5000 sparse matrix of type '<class 'numpy.float64'>'\n",
       "\twith 31989 stored elements in Compressed Sparse Row format>"
      ]
     },
     "execution_count": 29,
     "metadata": {},
     "output_type": "execute_result"
    }
   ],
   "source": [
    "X_test_tfidf   # Sparse Matrix"
   ]
  },
  {
   "cell_type": "markdown",
   "id": "afc86725",
   "metadata": {
    "papermill": {
     "duration": 0.064,
     "end_time": "2022-05-14T16:43:08.416658",
     "exception": false,
     "start_time": "2022-05-14T16:43:08.352658",
     "status": "completed"
    },
    "tags": []
   },
   "source": [
    "# Model Training"
   ]
  },
  {
   "cell_type": "code",
   "execution_count": 30,
   "id": "94f9e290",
   "metadata": {
    "execution": {
     "iopub.execute_input": "2022-05-14T16:43:08.545353Z",
     "iopub.status.busy": "2022-05-14T16:43:08.544780Z",
     "iopub.status.idle": "2022-05-14T16:43:08.549454Z",
     "shell.execute_reply": "2022-05-14T16:43:08.548675Z"
    },
    "papermill": {
     "duration": 0.071588,
     "end_time": "2022-05-14T16:43:08.551670",
     "exception": false,
     "start_time": "2022-05-14T16:43:08.480082",
     "status": "completed"
    },
    "tags": []
   },
   "outputs": [],
   "source": [
    "from sklearn.metrics import plot_confusion_matrix, classification_report"
   ]
  },
  {
   "cell_type": "code",
   "execution_count": 31,
   "id": "7e924cef",
   "metadata": {
    "execution": {
     "iopub.execute_input": "2022-05-14T16:43:08.680246Z",
     "iopub.status.busy": "2022-05-14T16:43:08.679950Z",
     "iopub.status.idle": "2022-05-14T16:43:20.355141Z",
     "shell.execute_reply": "2022-05-14T16:43:20.354044Z"
    },
    "papermill": {
     "duration": 11.74227,
     "end_time": "2022-05-14T16:43:20.357543",
     "exception": false,
     "start_time": "2022-05-14T16:43:08.615273",
     "status": "completed"
    },
    "tags": []
   },
   "outputs": [
    {
     "name": "stdout",
     "output_type": "stream",
     "text": [
      "              precision    recall  f1-score   support\n",
      "\n",
      "    negative       0.71      0.57      0.63      1503\n",
      "     neutral       0.62      0.75      0.68      2193\n",
      "    positive       0.76      0.68      0.72      1662\n",
      "\n",
      "    accuracy                           0.68      5358\n",
      "   macro avg       0.70      0.67      0.68      5358\n",
      "weighted avg       0.69      0.68      0.68      5358\n",
      "\n"
     ]
    },
    {
     "data": {
      "text/plain": [
       "<sklearn.metrics._plot.confusion_matrix.ConfusionMatrixDisplay at 0x7f67981526d0>"
      ]
     },
     "execution_count": 31,
     "metadata": {},
     "output_type": "execute_result"
    },
    {
     "data": {
      "image/png": "[encoded data removed]",
      "text/plain": [
       "<Figure size 432x288 with 2 Axes>"
      ]
     },
     "metadata": {
      "needs_background": "light"
     },
     "output_type": "display_data"
    }
   ],
   "source": [
    "# LOGISTIC REGRESSION with the complete data\n",
    "from sklearn.linear_model import LogisticRegression\n",
    "from sklearn.experimental import enable_halving_search_cv\n",
    "from sklearn.model_selection import HalvingGridSearchCV\n",
    "log_model = LogisticRegression(solver = 'saga',multi_class=\"ovr\")\n",
    "param_grid = {'C': np.logspace(0, 10, 5)}\n",
    "grid_log_model = HalvingGridSearchCV(log_model, param_grid = param_grid, n_jobs = -1, min_resources = 'exhaust', factor = 3)\n",
    "grid_log_model.fit(X_train_tfidf, y_train)\n",
    "preds_grid_log_model = grid_log_model.predict(X_test_tfidf)\n",
    "print(classification_report(y_test, preds_grid_log_model))\n",
    "plot_confusion_matrix(grid_log_model, X_test_tfidf, y_test)"
   ]
  },
  {
   "cell_type": "code",
   "execution_count": 32,
   "id": "88278e37",
   "metadata": {
    "execution": {
     "iopub.execute_input": "2022-05-14T16:43:20.493176Z",
     "iopub.status.busy": "2022-05-14T16:43:20.492866Z",
     "iopub.status.idle": "2022-05-14T16:43:20.500935Z",
     "shell.execute_reply": "2022-05-14T16:43:20.499995Z"
    },
    "papermill": {
     "duration": 0.078029,
     "end_time": "2022-05-14T16:43:20.503053",
     "exception": false,
     "start_time": "2022-05-14T16:43:20.425024",
     "status": "completed"
    },
    "tags": []
   },
   "outputs": [
    {
     "data": {
      "text/plain": [
       "LogisticRegression(multi_class='ovr', solver='saga')"
      ]
     },
     "execution_count": 32,
     "metadata": {},
     "output_type": "execute_result"
    }
   ],
   "source": [
    "grid_log_model.best_estimator_"
   ]
  },
  {
   "cell_type": "code",
   "execution_count": 33,
   "id": "8d757a68",
   "metadata": {
    "execution": {
     "iopub.execute_input": "2022-05-14T16:43:20.639979Z",
     "iopub.status.busy": "2022-05-14T16:43:20.639412Z",
     "iopub.status.idle": "2022-05-14T16:43:22.839309Z",
     "shell.execute_reply": "2022-05-14T16:43:22.838347Z"
    },
    "papermill": {
     "duration": 2.270461,
     "end_time": "2022-05-14T16:43:22.841625",
     "exception": false,
     "start_time": "2022-05-14T16:43:20.571164",
     "status": "completed"
    },
    "tags": []
   },
   "outputs": [
    {
     "name": "stdout",
     "output_type": "stream",
     "text": [
      "              precision    recall  f1-score   support\n",
      "\n",
      "    negative       0.71      0.56      0.63      1503\n",
      "     neutral       0.61      0.76      0.68      2193\n",
      "    positive       0.77      0.68      0.72      1662\n",
      "\n",
      "    accuracy                           0.68      5358\n",
      "   macro avg       0.70      0.67      0.68      5358\n",
      "weighted avg       0.69      0.68      0.68      5358\n",
      "\n"
     ]
    },
    {
     "data": {
      "text/plain": [
       "<sklearn.metrics._plot.confusion_matrix.ConfusionMatrixDisplay at 0x7f67981ad510>"
      ]
     },
     "execution_count": 33,
     "metadata": {},
     "output_type": "execute_result"
    },
    {
     "data": {
      "image/png": "[encoded data removed]",
      "text/plain": [
       "<Figure size 432x288 with 2 Axes>"
      ]
     },
     "metadata": {
      "needs_background": "light"
     },
     "output_type": "display_data"
    }
   ],
   "source": [
    "# Linear SVM Model\n",
    "from sklearn.svm import LinearSVC\n",
    "svm_model = LinearSVC()\n",
    "C = [1e-5, 1e-4, 1e-2, 1e-1, 1]\n",
    "param_grid = {'C': C}\n",
    "grid_svm_model = HalvingGridSearchCV(svm_model, param_grid = param_grid, n_jobs = -1, min_resources = 'exhaust', factor = 3)\n",
    "grid_svm_model.fit(X_train_tfidf, y_train)\n",
    "preds_grid_svm_model = grid_svm_model.predict(X_test_tfidf)\n",
    "print(classification_report(y_test, preds_grid_svm_model))\n",
    "plot_confusion_matrix(grid_svm_model, X_test_tfidf, y_test)"
   ]
  },
  {
   "cell_type": "code",
   "execution_count": 34,
   "id": "497f565a",
   "metadata": {
    "execution": {
     "iopub.execute_input": "2022-05-14T16:43:22.979636Z",
     "iopub.status.busy": "2022-05-14T16:43:22.979355Z",
     "iopub.status.idle": "2022-05-14T16:48:40.096244Z",
     "shell.execute_reply": "2022-05-14T16:48:40.095342Z"
    },
    "papermill": {
     "duration": 317.188737,
     "end_time": "2022-05-14T16:48:40.098692",
     "exception": false,
     "start_time": "2022-05-14T16:43:22.909955",
     "status": "completed"
    },
    "tags": []
   },
   "outputs": [
    {
     "name": "stdout",
     "output_type": "stream",
     "text": [
      "              precision    recall  f1-score   support\n",
      "\n",
      "    negative       0.72      0.57      0.64      1503\n",
      "     neutral       0.62      0.77      0.69      2193\n",
      "    positive       0.78      0.68      0.72      1662\n",
      "\n",
      "    accuracy                           0.69      5358\n",
      "   macro avg       0.70      0.67      0.68      5358\n",
      "weighted avg       0.70      0.69      0.68      5358\n",
      "\n"
     ]
    },
    {
     "data": {
      "text/plain": [
       "<sklearn.metrics._plot.confusion_matrix.ConfusionMatrixDisplay at 0x7f67970b5990>"
      ]
     },
     "execution_count": 34,
     "metadata": {},
     "output_type": "execute_result"
    },
    {
     "data": {
      "image/png": "[encoded data removed]",
      "text/plain": [
       "<Figure size 432x288 with 2 Axes>"
      ]
     },
     "metadata": {
      "needs_background": "light"
     },
     "output_type": "display_data"
    }
   ],
   "source": [
    "#SVM MODEL FOR HIGHER DIMENSIONS\n",
    "from sklearn.svm import SVC\n",
    "svm_model = SVC()\n",
    "C = [1e-5, 1e-4, 1e-2, 1e-1, 1]\n",
    "kernel = ['rbf', 'poly', 'sigmoid']\n",
    "param_grid = {'C': C, 'kernel': kernel}\n",
    "grid_svm_model = HalvingGridSearchCV(svm_model, param_grid = param_grid, n_jobs = -1, min_resources = 'exhaust', factor = 3)\n",
    "grid_svm_model.fit(X_train_tfidf, y_train)\n",
    "preds_grid_svm_model = grid_svm_model.predict(X_test_tfidf)\n",
    "print(classification_report(y_test, preds_grid_svm_model))\n",
    "plot_confusion_matrix(grid_svm_model, X_test_tfidf, y_test)"
   ]
  },
  {
   "cell_type": "code",
   "execution_count": 35,
   "id": "2c43be56",
   "metadata": {
    "execution": {
     "iopub.execute_input": "2022-05-14T16:48:40.244341Z",
     "iopub.status.busy": "2022-05-14T16:48:40.243773Z",
     "iopub.status.idle": "2022-05-14T16:48:40.251128Z",
     "shell.execute_reply": "2022-05-14T16:48:40.250084Z"
    },
    "papermill": {
     "duration": 0.082631,
     "end_time": "2022-05-14T16:48:40.253448",
     "exception": false,
     "start_time": "2022-05-14T16:48:40.170817",
     "status": "completed"
    },
    "tags": []
   },
   "outputs": [
    {
     "data": {
      "text/plain": [
       "SVC(C=1, kernel='sigmoid')"
      ]
     },
     "execution_count": 35,
     "metadata": {},
     "output_type": "execute_result"
    }
   ],
   "source": [
    "grid_svm_model.best_estimator_"
   ]
  },
  {
   "cell_type": "code",
   "execution_count": 36,
   "id": "5edf9c66",
   "metadata": {
    "execution": {
     "iopub.execute_input": "2022-05-14T16:48:40.403120Z",
     "iopub.status.busy": "2022-05-14T16:48:40.402543Z",
     "iopub.status.idle": "2022-05-14T16:53:08.009468Z",
     "shell.execute_reply": "2022-05-14T16:53:08.008574Z"
    },
    "papermill": {
     "duration": 267.685993,
     "end_time": "2022-05-14T16:53:08.011864",
     "exception": false,
     "start_time": "2022-05-14T16:48:40.325871",
     "status": "completed"
    },
    "tags": []
   },
   "outputs": [
    {
     "name": "stdout",
     "output_type": "stream",
     "text": [
      "              precision    recall  f1-score   support\n",
      "\n",
      "    negative       0.72      0.61      0.66      1503\n",
      "     neutral       0.65      0.71      0.68      2193\n",
      "    positive       0.73      0.75      0.74      1662\n",
      "\n",
      "    accuracy                           0.69      5358\n",
      "   macro avg       0.70      0.69      0.69      5358\n",
      "weighted avg       0.70      0.69      0.69      5358\n",
      "\n"
     ]
    },
    {
     "data": {
      "text/plain": [
       "<sklearn.metrics._plot.confusion_matrix.ConfusionMatrixDisplay at 0x7f679821ad50>"
      ]
     },
     "execution_count": 36,
     "metadata": {},
     "output_type": "execute_result"
    },
    {
     "data": {
      "image/png": "[encoded data removed]",
      "text/plain": [
       "<Figure size 432x288 with 2 Axes>"
      ]
     },
     "metadata": {
      "needs_background": "light"
     },
     "output_type": "display_data"
    }
   ],
   "source": [
    "# Randon Forest\n",
    "from sklearn.ensemble import RandomForestClassifier\n",
    "rf_model = RandomForestClassifier(random_state = 42)\n",
    "n_estimators = [64, 100, 128]\n",
    "bootstrap = [True, False] # Bootstrapping is true by default\n",
    "param_grid = {'n_estimators': n_estimators, 'bootstrap': bootstrap}\n",
    "grid_rf_model = HalvingGridSearchCV(rf_model, param_grid = param_grid, n_jobs = -1, min_resources = 'exhaust', factor = 3)\n",
    "grid_rf_model.fit(X_train_tfidf, y_train)\n",
    "preds_grid_rf_model = grid_rf_model.predict(X_test_tfidf)\n",
    "print(classification_report(y_test, preds_grid_rf_model))\n",
    "plot_confusion_matrix(grid_rf_model, X_test_tfidf, y_test)"
   ]
  },
  {
   "cell_type": "code",
   "execution_count": 37,
   "id": "58f1f48f",
   "metadata": {
    "execution": {
     "iopub.execute_input": "2022-05-14T16:53:08.158689Z",
     "iopub.status.busy": "2022-05-14T16:53:08.158403Z",
     "iopub.status.idle": "2022-05-14T16:53:08.165348Z",
     "shell.execute_reply": "2022-05-14T16:53:08.164338Z"
    },
    "papermill": {
     "duration": 0.083406,
     "end_time": "2022-05-14T16:53:08.167845",
     "exception": false,
     "start_time": "2022-05-14T16:53:08.084439",
     "status": "completed"
    },
    "tags": []
   },
   "outputs": [
    {
     "data": {
      "text/plain": [
       "RandomForestClassifier(n_estimators=128, random_state=42)"
      ]
     },
     "execution_count": 37,
     "metadata": {},
     "output_type": "execute_result"
    }
   ],
   "source": [
    "grid_rf_model.best_estimator_"
   ]
  },
  {
   "cell_type": "code",
   "execution_count": 38,
   "id": "41249a93",
   "metadata": {
    "execution": {
     "iopub.execute_input": "2022-05-14T16:53:08.318093Z",
     "iopub.status.busy": "2022-05-14T16:53:08.317525Z",
     "iopub.status.idle": "2022-05-14T16:56:16.647126Z",
     "shell.execute_reply": "2022-05-14T16:56:16.646034Z"
    },
    "papermill": {
     "duration": 188.408064,
     "end_time": "2022-05-14T16:56:16.649570",
     "exception": false,
     "start_time": "2022-05-14T16:53:08.241506",
     "status": "completed"
    },
    "tags": []
   },
   "outputs": [
    {
     "name": "stdout",
     "output_type": "stream",
     "text": [
      "              precision    recall  f1-score   support\n",
      "\n",
      "    negative       0.77      0.46      0.58      1503\n",
      "     neutral       0.59      0.81      0.68      2193\n",
      "    positive       0.77      0.66      0.71      1662\n",
      "\n",
      "    accuracy                           0.66      5358\n",
      "   macro avg       0.71      0.64      0.65      5358\n",
      "weighted avg       0.69      0.66      0.66      5358\n",
      "\n"
     ]
    },
    {
     "data": {
      "text/plain": [
       "<sklearn.metrics._plot.confusion_matrix.ConfusionMatrixDisplay at 0x7f6798216650>"
      ]
     },
     "execution_count": 38,
     "metadata": {},
     "output_type": "execute_result"
    },
    {
     "data": {
      "image/png": "[encoded data removed]",
      "text/plain": [
       "<Figure size 432x288 with 2 Axes>"
      ]
     },
     "metadata": {
      "needs_background": "light"
     },
     "output_type": "display_data"
    }
   ],
   "source": [
    "# GRADIENT BOOSTING\n",
    "from sklearn.ensemble import GradientBoostingClassifier\n",
    "grad_model = GradientBoostingClassifier(random_state = 42)\n",
    "param_grid = {'n_estimators': [64, 100, 128, 200]}\n",
    "grid_grad_model = HalvingGridSearchCV(grad_model, param_grid = param_grid, n_jobs = -1, min_resources = 'exhaust', factor = 3)\n",
    "grid_grad_model.fit(X_train_tfidf, y_train)\n",
    "preds_grid_grad_model = grid_grad_model.predict(X_test_tfidf)\n",
    "print(classification_report(y_test, preds_grid_grad_model))\n",
    "plot_confusion_matrix(grid_grad_model, X_test_tfidf, y_test)"
   ]
  },
  {
   "cell_type": "code",
   "execution_count": 39,
   "id": "a71ad763",
   "metadata": {
    "execution": {
     "iopub.execute_input": "2022-05-14T16:56:16.800379Z",
     "iopub.status.busy": "2022-05-14T16:56:16.799493Z",
     "iopub.status.idle": "2022-05-14T16:56:16.806403Z",
     "shell.execute_reply": "2022-05-14T16:56:16.805374Z"
    },
    "papermill": {
     "duration": 0.08434,
     "end_time": "2022-05-14T16:56:16.808456",
     "exception": false,
     "start_time": "2022-05-14T16:56:16.724116",
     "status": "completed"
    },
    "tags": []
   },
   "outputs": [
    {
     "data": {
      "text/plain": [
       "GradientBoostingClassifier(n_estimators=200, random_state=42)"
      ]
     },
     "execution_count": 39,
     "metadata": {},
     "output_type": "execute_result"
    }
   ],
   "source": [
    "grid_grad_model.best_estimator_"
   ]
  },
  {
   "cell_type": "code",
   "execution_count": 40,
   "id": "1f8dfbcc",
   "metadata": {
    "execution": {
     "iopub.execute_input": "2022-05-14T16:56:16.961007Z",
     "iopub.status.busy": "2022-05-14T16:56:16.960442Z",
     "iopub.status.idle": "2022-05-14T16:56:17.516074Z",
     "shell.execute_reply": "2022-05-14T16:56:17.515399Z"
    },
    "papermill": {
     "duration": 0.634129,
     "end_time": "2022-05-14T16:56:17.518214",
     "exception": false,
     "start_time": "2022-05-14T16:56:16.884085",
     "status": "completed"
    },
    "tags": []
   },
   "outputs": [
    {
     "name": "stdout",
     "output_type": "stream",
     "text": [
      "              precision    recall  f1-score   support\n",
      "\n",
      "    negative       0.71      0.47      0.57      1503\n",
      "     neutral       0.56      0.76      0.64      2193\n",
      "    positive       0.71      0.59      0.64      1662\n",
      "\n",
      "    accuracy                           0.63      5358\n",
      "   macro avg       0.66      0.61      0.62      5358\n",
      "weighted avg       0.65      0.63      0.62      5358\n",
      "\n"
     ]
    },
    {
     "data": {
      "text/plain": [
       "<sklearn.metrics._plot.confusion_matrix.ConfusionMatrixDisplay at 0x7f6798246510>"
      ]
     },
     "execution_count": 40,
     "metadata": {},
     "output_type": "execute_result"
    },
    {
     "data": {
      "image/png": "[encoded data removed]",
      "text/plain": [
       "<Figure size 432x288 with 2 Axes>"
      ]
     },
     "metadata": {
      "needs_background": "light"
     },
     "output_type": "display_data"
    }
   ],
   "source": [
    "# NAIVE - BAYES\n",
    "from sklearn.naive_bayes import MultinomialNB\n",
    "nb_model = MultinomialNB()\n",
    "nb_model.fit(X_train_tfidf, y_train)\n",
    "preds_nb_model = nb_model.predict(X_test_tfidf)\n",
    "print(classification_report(y_test, preds_nb_model))\n",
    "plot_confusion_matrix(nb_model, X_test_tfidf, y_test)"
   ]
  },
  {
   "cell_type": "markdown",
   "id": "4bc77d96",
   "metadata": {
    "papermill": {
     "duration": 0.07738,
     "end_time": "2022-05-14T16:56:17.672374",
     "exception": false,
     "start_time": "2022-05-14T16:56:17.594994",
     "status": "completed"
    },
    "tags": []
   },
   "source": [
    "Random forest is performing better than other classifiers."
   ]
  },
  {
   "cell_type": "markdown",
   "id": "76bc271b",
   "metadata": {
    "papermill": {
     "duration": 0.076012,
     "end_time": "2022-05-14T16:56:17.824260",
     "exception": false,
     "start_time": "2022-05-14T16:56:17.748248",
     "status": "completed"
    },
    "tags": []
   },
   "source": [
    "# Creating pipeline"
   ]
  },
  {
   "cell_type": "code",
   "execution_count": 41,
   "id": "fafaf97c",
   "metadata": {
    "execution": {
     "iopub.execute_input": "2022-05-14T16:56:17.978442Z",
     "iopub.status.busy": "2022-05-14T16:56:17.977946Z",
     "iopub.status.idle": "2022-05-14T16:57:07.851989Z",
     "shell.execute_reply": "2022-05-14T16:57:07.851180Z"
    },
    "papermill": {
     "duration": 50.03151,
     "end_time": "2022-05-14T16:57:07.931751",
     "exception": false,
     "start_time": "2022-05-14T16:56:17.900241",
     "status": "completed"
    },
    "tags": []
   },
   "outputs": [
    {
     "data": {
      "text/plain": [
       "Pipeline(steps=[('tfidf', TfidfVectorizer(max_features=5000)),\n",
       "                ('rf_model',\n",
       "                 RandomForestClassifier(n_estimators=128, random_state=42))])"
      ]
     },
     "execution_count": 41,
     "metadata": {},
     "output_type": "execute_result"
    }
   ],
   "source": [
    "# Creating a pipeline\n",
    "from sklearn.pipeline import Pipeline\n",
    "pipe = Pipeline([('tfidf', TfidfVectorizer(max_features = 5000)), ('rf_model', RandomForestClassifier(n_estimators = 128, random_state = 42))])\n",
    "pipe.fit(X, y)"
   ]
  },
  {
   "cell_type": "markdown",
   "id": "7df7fbd8",
   "metadata": {
    "papermill": {
     "duration": 0.079778,
     "end_time": "2022-05-14T16:57:08.089359",
     "exception": false,
     "start_time": "2022-05-14T16:57:08.009581",
     "status": "completed"
    },
    "tags": []
   },
   "source": [
    "# Taking tweets from internet and predicting their sentiments"
   ]
  },
  {
   "cell_type": "code",
   "execution_count": 42,
   "id": "1239d4ce",
   "metadata": {
    "execution": {
     "iopub.execute_input": "2022-05-14T16:57:08.247822Z",
     "iopub.status.busy": "2022-05-14T16:57:08.247262Z",
     "iopub.status.idle": "2022-05-14T16:57:08.274607Z",
     "shell.execute_reply": "2022-05-14T16:57:08.273836Z"
    },
    "papermill": {
     "duration": 0.109058,
     "end_time": "2022-05-14T16:57:08.276776",
     "exception": false,
     "start_time": "2022-05-14T16:57:08.167718",
     "status": "completed"
    },
    "tags": []
   },
   "outputs": [
    {
     "data": {
      "text/plain": [
       "array(['negative'], dtype=object)"
      ]
     },
     "execution_count": 42,
     "metadata": {},
     "output_type": "execute_result"
    }
   ],
   "source": [
    "pipe.predict([\"The hard truth about the United States is that the money other countries spend on health and infrastructure, we spend on war.\"])"
   ]
  },
  {
   "cell_type": "code",
   "execution_count": 43,
   "id": "470a1547",
   "metadata": {
    "execution": {
     "iopub.execute_input": "2022-05-14T16:57:08.437734Z",
     "iopub.status.busy": "2022-05-14T16:57:08.437249Z",
     "iopub.status.idle": "2022-05-14T16:57:08.464121Z",
     "shell.execute_reply": "2022-05-14T16:57:08.463374Z"
    },
    "papermill": {
     "duration": 0.111803,
     "end_time": "2022-05-14T16:57:08.466225",
     "exception": false,
     "start_time": "2022-05-14T16:57:08.354422",
     "status": "completed"
    },
    "tags": []
   },
   "outputs": [
    {
     "data": {
      "text/plain": [
       "array(['neutral'], dtype=object)"
      ]
     },
     "execution_count": 43,
     "metadata": {},
     "output_type": "execute_result"
    }
   ],
   "source": [
    "pipe.predict([\"No one is born hating another person because of the color of his skin or his background or his religion\"])"
   ]
  },
  {
   "cell_type": "code",
   "execution_count": 44,
   "id": "4b893490",
   "metadata": {
    "execution": {
     "iopub.execute_input": "2022-05-14T16:57:08.626743Z",
     "iopub.status.busy": "2022-05-14T16:57:08.626209Z",
     "iopub.status.idle": "2022-05-14T16:57:08.652890Z",
     "shell.execute_reply": "2022-05-14T16:57:08.652218Z"
    },
    "papermill": {
     "duration": 0.10952,
     "end_time": "2022-05-14T16:57:08.654966",
     "exception": false,
     "start_time": "2022-05-14T16:57:08.545446",
     "status": "completed"
    },
    "tags": []
   },
   "outputs": [
    {
     "data": {
      "text/plain": [
       "array(['negative'], dtype=object)"
      ]
     },
     "execution_count": 44,
     "metadata": {},
     "output_type": "execute_result"
    }
   ],
   "source": [
    "pipe.predict([\"White House weighs bold plan to privatize much of war in Afghanistan, Blackwater founder tells USA TODAY https://usat.ly/2wErDDt\"])"
   ]
  },
  {
   "cell_type": "code",
   "execution_count": 45,
   "id": "5e4ee637",
   "metadata": {
    "execution": {
     "iopub.execute_input": "2022-05-14T16:57:08.818435Z",
     "iopub.status.busy": "2022-05-14T16:57:08.817906Z",
     "iopub.status.idle": "2022-05-14T16:57:08.845604Z",
     "shell.execute_reply": "2022-05-14T16:57:08.844886Z"
    },
    "papermill": {
     "duration": 0.110469,
     "end_time": "2022-05-14T16:57:08.847608",
     "exception": false,
     "start_time": "2022-05-14T16:57:08.737139",
     "status": "completed"
    },
    "tags": []
   },
   "outputs": [
    {
     "data": {
      "text/plain": [
       "array(['positive'], dtype=object)"
      ]
     },
     "execution_count": 45,
     "metadata": {},
     "output_type": "execute_result"
    }
   ],
   "source": [
    "pipe.predict([\"Journey!? Wow... u just became cooler. hehe....\"])"
   ]
  }
 ],
 "metadata": {
  "kernelspec": {
   "display_name": "Python 3",
   "language": "python",
   "name": "python3"
  },
  "language_info": {
   "codemirror_mode": {
    "name": "ipython",
    "version": 3
   },
   "file_extension": ".py",
   "mimetype": "text/x-python",
   "name": "python",
   "nbconvert_exporter": "python",
   "pygments_lexer": "ipython3",
   "version": "3.7.12"
  },
  "papermill": {
   "default_parameters": {},
   "duration": 867.92548,
   "end_time": "2022-05-14T16:57:11.550608",
   "environment_variables": {},
   "exception": null,
   "input_path": "__notebook__.ipynb",
   "output_path": "__notebook__.ipynb",
   "parameters": {},
   "start_time": "2022-05-14T16:42:43.625128",
   "version": "2.3.4"
  }
 },
 "nbformat": 4,
 "nbformat_minor": 5
}
